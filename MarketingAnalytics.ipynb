{
  "nbformat": 4,
  "nbformat_minor": 0,
  "metadata": {
    "colab": {
      "provenance": [],
      "toc_visible": true,
      "mount_file_id": "1R87iAPILf_qj7tHYrEoNkkwRVZEmN-iJ",
      "authorship_tag": "ABX9TyM5te/aYpjnsEpIO2voKMCx",
      "include_colab_link": true
    },
    "kernelspec": {
      "name": "python3",
      "display_name": "Python 3"
    },
    "language_info": {
      "name": "python"
    }
  },
  "cells": [
    {
      "cell_type": "markdown",
      "metadata": {
        "id": "view-in-github",
        "colab_type": "text"
      },
      "source": [
        "<a href=\"https://colab.research.google.com/github/nguyenngoctham02da/MarketingAnalyticsProject/blob/main/MarketingAnalytics.ipynb\" target=\"_parent\"><img src=\"https://colab.research.google.com/assets/colab-badge.svg\" alt=\"Open In Colab\"/></a>"
      ]
    },
    {
      "cell_type": "markdown",
      "source": [
        "- Context: ***Assuming that*** I've been told by the Chief Marketing Officer that recent marketing campaigns have not been as effective as they were expected to be. I need to analyze the data set to understand this problem and figure out useful insights."
      ],
      "metadata": {
        "id": "JTJZv0-0Comf"
      }
    },
    {
      "cell_type": "markdown",
      "source": [
        "\n",
        "1. Assessing and Cleaning data\n",
        "- Checking null values\n",
        "- Checking datatype (change data type if necessary)\n",
        "2. Exploratory Data Analysis\n",
        "- Are there any outliers? How will you wrangle/handle them?\n",
        "- Are there any useful variables that you can engineer with the given data?\n",
        "- Do you notice any patterns or anomalies in the data? Can you plot them?\n",
        "3. Statistical Analysis\n",
        "- What factors are significantly related to the number of store purchases?\n",
        "- Fish has Omega 3 fatty acids which are good for the brain. - Accordingly, do \"Married PhD candidates\" have a significant relation with amount spent on fish?\n",
        "4. Further Analysis\n",
        "- Which marketing campaign is most successful?\n",
        "- What does the average customer look like for this company? Which products are performing best?\n",
        "- Which channels are underperforming?"
      ],
      "metadata": {
        "id": "bl-X-UFo_-oP"
      }
    },
    {
      "cell_type": "code",
      "execution_count": 1,
      "metadata": {
        "id": "gEu6ceVkyiKs"
      },
      "outputs": [],
      "source": [
        "# import all packages and set plots to be embedded inline\n",
        "import numpy as np\n",
        "import pandas as pd\n",
        "import statsmodels.api as sm\n",
        "import matplotlib.pyplot as plt\n",
        "import seaborn as sb\n",
        "\n",
        "%matplotlib inline"
      ]
    },
    {
      "cell_type": "code",
      "source": [
        "df1=pd.read_csv('/content/drive/MyDrive/DatasetDA/MarketingAnalytics/marketing_data.csv')\n",
        "df1"
      ],
      "metadata": {
        "colab": {
          "base_uri": "https://localhost:8080/",
          "height": 487
        },
        "id": "7lqY4ba81gcD",
        "outputId": "f4ab16dc-f10e-4b09-8283-9f35bc33a2c7"
      },
      "execution_count": 2,
      "outputs": [
        {
          "output_type": "execute_result",
          "data": {
            "text/plain": [
              "         ID  Year_Birth   Education Marital_Status      Income   Kidhome  \\\n",
              "0      1826        1970  Graduation       Divorced  $84,835.00         0   \n",
              "1         1        1961  Graduation         Single  $57,091.00         0   \n",
              "2     10476        1958  Graduation        Married  $67,267.00         0   \n",
              "3      1386        1967  Graduation       Together  $32,474.00         1   \n",
              "4      5371        1989  Graduation         Single  $21,474.00         1   \n",
              "...     ...         ...         ...            ...          ...      ...   \n",
              "2235  10142        1976         PhD       Divorced  $66,476.00         0   \n",
              "2236   5263        1977    2n Cycle        Married  $31,056.00         1   \n",
              "2237     22        1976  Graduation       Divorced  $46,310.00         1   \n",
              "2238    528        1978  Graduation        Married  $65,819.00         0   \n",
              "2239   4070        1969         PhD        Married  $94,871.00         0   \n",
              "\n",
              "      Teenhome Dt_Customer  Recency  MntWines  ...  NumStorePurchases  \\\n",
              "0            0     6/16/14        0       189  ...                  6   \n",
              "1            0     6/15/14        0       464  ...                  7   \n",
              "2            1     5/13/14        0       134  ...                  5   \n",
              "3            1     5/11/14        0        10  ...                  2   \n",
              "4            0      4/8/14        0         6  ...                  2   \n",
              "...        ...         ...      ...       ...  ...                ...   \n",
              "2235         1      3/7/13       99       372  ...                 11   \n",
              "2236         0     1/22/13       99         5  ...                  3   \n",
              "2237         0     12/3/12       99       185  ...                  5   \n",
              "2238         0    11/29/12       99       267  ...                 10   \n",
              "2239         2      9/1/12       99       169  ...                  4   \n",
              "\n",
              "      NumWebVisitsMonth  AcceptedCmp3  AcceptedCmp4  AcceptedCmp5  \\\n",
              "0                     1             0             0             0   \n",
              "1                     5             0             0             0   \n",
              "2                     2             0             0             0   \n",
              "3                     7             0             0             0   \n",
              "4                     7             1             0             0   \n",
              "...                 ...           ...           ...           ...   \n",
              "2235                  4             0             0             0   \n",
              "2236                  8             0             0             0   \n",
              "2237                  8             0             0             0   \n",
              "2238                  3             0             0             0   \n",
              "2239                  7             0             1             1   \n",
              "\n",
              "      AcceptedCmp1  AcceptedCmp2  Response  Complain  Country  \n",
              "0                0             0         1         0       SP  \n",
              "1                0             1         1         0       CA  \n",
              "2                0             0         0         0       US  \n",
              "3                0             0         0         0      AUS  \n",
              "4                0             0         1         0       SP  \n",
              "...            ...           ...       ...       ...      ...  \n",
              "2235             0             0         0         0       US  \n",
              "2236             0             0         0         0       SP  \n",
              "2237             0             0         0         0       SP  \n",
              "2238             0             0         0         0      IND  \n",
              "2239             0             0         1         0       CA  \n",
              "\n",
              "[2240 rows x 28 columns]"
            ],
            "text/html": [
              "\n",
              "  <div id=\"df-5c46b9b9-d5e8-4c78-8fa9-312a0c3764af\">\n",
              "    <div class=\"colab-df-container\">\n",
              "      <div>\n",
              "<style scoped>\n",
              "    .dataframe tbody tr th:only-of-type {\n",
              "        vertical-align: middle;\n",
              "    }\n",
              "\n",
              "    .dataframe tbody tr th {\n",
              "        vertical-align: top;\n",
              "    }\n",
              "\n",
              "    .dataframe thead th {\n",
              "        text-align: right;\n",
              "    }\n",
              "</style>\n",
              "<table border=\"1\" class=\"dataframe\">\n",
              "  <thead>\n",
              "    <tr style=\"text-align: right;\">\n",
              "      <th></th>\n",
              "      <th>ID</th>\n",
              "      <th>Year_Birth</th>\n",
              "      <th>Education</th>\n",
              "      <th>Marital_Status</th>\n",
              "      <th>Income</th>\n",
              "      <th>Kidhome</th>\n",
              "      <th>Teenhome</th>\n",
              "      <th>Dt_Customer</th>\n",
              "      <th>Recency</th>\n",
              "      <th>MntWines</th>\n",
              "      <th>...</th>\n",
              "      <th>NumStorePurchases</th>\n",
              "      <th>NumWebVisitsMonth</th>\n",
              "      <th>AcceptedCmp3</th>\n",
              "      <th>AcceptedCmp4</th>\n",
              "      <th>AcceptedCmp5</th>\n",
              "      <th>AcceptedCmp1</th>\n",
              "      <th>AcceptedCmp2</th>\n",
              "      <th>Response</th>\n",
              "      <th>Complain</th>\n",
              "      <th>Country</th>\n",
              "    </tr>\n",
              "  </thead>\n",
              "  <tbody>\n",
              "    <tr>\n",
              "      <th>0</th>\n",
              "      <td>1826</td>\n",
              "      <td>1970</td>\n",
              "      <td>Graduation</td>\n",
              "      <td>Divorced</td>\n",
              "      <td>$84,835.00</td>\n",
              "      <td>0</td>\n",
              "      <td>0</td>\n",
              "      <td>6/16/14</td>\n",
              "      <td>0</td>\n",
              "      <td>189</td>\n",
              "      <td>...</td>\n",
              "      <td>6</td>\n",
              "      <td>1</td>\n",
              "      <td>0</td>\n",
              "      <td>0</td>\n",
              "      <td>0</td>\n",
              "      <td>0</td>\n",
              "      <td>0</td>\n",
              "      <td>1</td>\n",
              "      <td>0</td>\n",
              "      <td>SP</td>\n",
              "    </tr>\n",
              "    <tr>\n",
              "      <th>1</th>\n",
              "      <td>1</td>\n",
              "      <td>1961</td>\n",
              "      <td>Graduation</td>\n",
              "      <td>Single</td>\n",
              "      <td>$57,091.00</td>\n",
              "      <td>0</td>\n",
              "      <td>0</td>\n",
              "      <td>6/15/14</td>\n",
              "      <td>0</td>\n",
              "      <td>464</td>\n",
              "      <td>...</td>\n",
              "      <td>7</td>\n",
              "      <td>5</td>\n",
              "      <td>0</td>\n",
              "      <td>0</td>\n",
              "      <td>0</td>\n",
              "      <td>0</td>\n",
              "      <td>1</td>\n",
              "      <td>1</td>\n",
              "      <td>0</td>\n",
              "      <td>CA</td>\n",
              "    </tr>\n",
              "    <tr>\n",
              "      <th>2</th>\n",
              "      <td>10476</td>\n",
              "      <td>1958</td>\n",
              "      <td>Graduation</td>\n",
              "      <td>Married</td>\n",
              "      <td>$67,267.00</td>\n",
              "      <td>0</td>\n",
              "      <td>1</td>\n",
              "      <td>5/13/14</td>\n",
              "      <td>0</td>\n",
              "      <td>134</td>\n",
              "      <td>...</td>\n",
              "      <td>5</td>\n",
              "      <td>2</td>\n",
              "      <td>0</td>\n",
              "      <td>0</td>\n",
              "      <td>0</td>\n",
              "      <td>0</td>\n",
              "      <td>0</td>\n",
              "      <td>0</td>\n",
              "      <td>0</td>\n",
              "      <td>US</td>\n",
              "    </tr>\n",
              "    <tr>\n",
              "      <th>3</th>\n",
              "      <td>1386</td>\n",
              "      <td>1967</td>\n",
              "      <td>Graduation</td>\n",
              "      <td>Together</td>\n",
              "      <td>$32,474.00</td>\n",
              "      <td>1</td>\n",
              "      <td>1</td>\n",
              "      <td>5/11/14</td>\n",
              "      <td>0</td>\n",
              "      <td>10</td>\n",
              "      <td>...</td>\n",
              "      <td>2</td>\n",
              "      <td>7</td>\n",
              "      <td>0</td>\n",
              "      <td>0</td>\n",
              "      <td>0</td>\n",
              "      <td>0</td>\n",
              "      <td>0</td>\n",
              "      <td>0</td>\n",
              "      <td>0</td>\n",
              "      <td>AUS</td>\n",
              "    </tr>\n",
              "    <tr>\n",
              "      <th>4</th>\n",
              "      <td>5371</td>\n",
              "      <td>1989</td>\n",
              "      <td>Graduation</td>\n",
              "      <td>Single</td>\n",
              "      <td>$21,474.00</td>\n",
              "      <td>1</td>\n",
              "      <td>0</td>\n",
              "      <td>4/8/14</td>\n",
              "      <td>0</td>\n",
              "      <td>6</td>\n",
              "      <td>...</td>\n",
              "      <td>2</td>\n",
              "      <td>7</td>\n",
              "      <td>1</td>\n",
              "      <td>0</td>\n",
              "      <td>0</td>\n",
              "      <td>0</td>\n",
              "      <td>0</td>\n",
              "      <td>1</td>\n",
              "      <td>0</td>\n",
              "      <td>SP</td>\n",
              "    </tr>\n",
              "    <tr>\n",
              "      <th>...</th>\n",
              "      <td>...</td>\n",
              "      <td>...</td>\n",
              "      <td>...</td>\n",
              "      <td>...</td>\n",
              "      <td>...</td>\n",
              "      <td>...</td>\n",
              "      <td>...</td>\n",
              "      <td>...</td>\n",
              "      <td>...</td>\n",
              "      <td>...</td>\n",
              "      <td>...</td>\n",
              "      <td>...</td>\n",
              "      <td>...</td>\n",
              "      <td>...</td>\n",
              "      <td>...</td>\n",
              "      <td>...</td>\n",
              "      <td>...</td>\n",
              "      <td>...</td>\n",
              "      <td>...</td>\n",
              "      <td>...</td>\n",
              "      <td>...</td>\n",
              "    </tr>\n",
              "    <tr>\n",
              "      <th>2235</th>\n",
              "      <td>10142</td>\n",
              "      <td>1976</td>\n",
              "      <td>PhD</td>\n",
              "      <td>Divorced</td>\n",
              "      <td>$66,476.00</td>\n",
              "      <td>0</td>\n",
              "      <td>1</td>\n",
              "      <td>3/7/13</td>\n",
              "      <td>99</td>\n",
              "      <td>372</td>\n",
              "      <td>...</td>\n",
              "      <td>11</td>\n",
              "      <td>4</td>\n",
              "      <td>0</td>\n",
              "      <td>0</td>\n",
              "      <td>0</td>\n",
              "      <td>0</td>\n",
              "      <td>0</td>\n",
              "      <td>0</td>\n",
              "      <td>0</td>\n",
              "      <td>US</td>\n",
              "    </tr>\n",
              "    <tr>\n",
              "      <th>2236</th>\n",
              "      <td>5263</td>\n",
              "      <td>1977</td>\n",
              "      <td>2n Cycle</td>\n",
              "      <td>Married</td>\n",
              "      <td>$31,056.00</td>\n",
              "      <td>1</td>\n",
              "      <td>0</td>\n",
              "      <td>1/22/13</td>\n",
              "      <td>99</td>\n",
              "      <td>5</td>\n",
              "      <td>...</td>\n",
              "      <td>3</td>\n",
              "      <td>8</td>\n",
              "      <td>0</td>\n",
              "      <td>0</td>\n",
              "      <td>0</td>\n",
              "      <td>0</td>\n",
              "      <td>0</td>\n",
              "      <td>0</td>\n",
              "      <td>0</td>\n",
              "      <td>SP</td>\n",
              "    </tr>\n",
              "    <tr>\n",
              "      <th>2237</th>\n",
              "      <td>22</td>\n",
              "      <td>1976</td>\n",
              "      <td>Graduation</td>\n",
              "      <td>Divorced</td>\n",
              "      <td>$46,310.00</td>\n",
              "      <td>1</td>\n",
              "      <td>0</td>\n",
              "      <td>12/3/12</td>\n",
              "      <td>99</td>\n",
              "      <td>185</td>\n",
              "      <td>...</td>\n",
              "      <td>5</td>\n",
              "      <td>8</td>\n",
              "      <td>0</td>\n",
              "      <td>0</td>\n",
              "      <td>0</td>\n",
              "      <td>0</td>\n",
              "      <td>0</td>\n",
              "      <td>0</td>\n",
              "      <td>0</td>\n",
              "      <td>SP</td>\n",
              "    </tr>\n",
              "    <tr>\n",
              "      <th>2238</th>\n",
              "      <td>528</td>\n",
              "      <td>1978</td>\n",
              "      <td>Graduation</td>\n",
              "      <td>Married</td>\n",
              "      <td>$65,819.00</td>\n",
              "      <td>0</td>\n",
              "      <td>0</td>\n",
              "      <td>11/29/12</td>\n",
              "      <td>99</td>\n",
              "      <td>267</td>\n",
              "      <td>...</td>\n",
              "      <td>10</td>\n",
              "      <td>3</td>\n",
              "      <td>0</td>\n",
              "      <td>0</td>\n",
              "      <td>0</td>\n",
              "      <td>0</td>\n",
              "      <td>0</td>\n",
              "      <td>0</td>\n",
              "      <td>0</td>\n",
              "      <td>IND</td>\n",
              "    </tr>\n",
              "    <tr>\n",
              "      <th>2239</th>\n",
              "      <td>4070</td>\n",
              "      <td>1969</td>\n",
              "      <td>PhD</td>\n",
              "      <td>Married</td>\n",
              "      <td>$94,871.00</td>\n",
              "      <td>0</td>\n",
              "      <td>2</td>\n",
              "      <td>9/1/12</td>\n",
              "      <td>99</td>\n",
              "      <td>169</td>\n",
              "      <td>...</td>\n",
              "      <td>4</td>\n",
              "      <td>7</td>\n",
              "      <td>0</td>\n",
              "      <td>1</td>\n",
              "      <td>1</td>\n",
              "      <td>0</td>\n",
              "      <td>0</td>\n",
              "      <td>1</td>\n",
              "      <td>0</td>\n",
              "      <td>CA</td>\n",
              "    </tr>\n",
              "  </tbody>\n",
              "</table>\n",
              "<p>2240 rows × 28 columns</p>\n",
              "</div>\n",
              "      <button class=\"colab-df-convert\" onclick=\"convertToInteractive('df-5c46b9b9-d5e8-4c78-8fa9-312a0c3764af')\"\n",
              "              title=\"Convert this dataframe to an interactive table.\"\n",
              "              style=\"display:none;\">\n",
              "        \n",
              "  <svg xmlns=\"http://www.w3.org/2000/svg\" height=\"24px\"viewBox=\"0 0 24 24\"\n",
              "       width=\"24px\">\n",
              "    <path d=\"M0 0h24v24H0V0z\" fill=\"none\"/>\n",
              "    <path d=\"M18.56 5.44l.94 2.06.94-2.06 2.06-.94-2.06-.94-.94-2.06-.94 2.06-2.06.94zm-11 1L8.5 8.5l.94-2.06 2.06-.94-2.06-.94L8.5 2.5l-.94 2.06-2.06.94zm10 10l.94 2.06.94-2.06 2.06-.94-2.06-.94-.94-2.06-.94 2.06-2.06.94z\"/><path d=\"M17.41 7.96l-1.37-1.37c-.4-.4-.92-.59-1.43-.59-.52 0-1.04.2-1.43.59L10.3 9.45l-7.72 7.72c-.78.78-.78 2.05 0 2.83L4 21.41c.39.39.9.59 1.41.59.51 0 1.02-.2 1.41-.59l7.78-7.78 2.81-2.81c.8-.78.8-2.07 0-2.86zM5.41 20L4 18.59l7.72-7.72 1.47 1.35L5.41 20z\"/>\n",
              "  </svg>\n",
              "      </button>\n",
              "      \n",
              "  <style>\n",
              "    .colab-df-container {\n",
              "      display:flex;\n",
              "      flex-wrap:wrap;\n",
              "      gap: 12px;\n",
              "    }\n",
              "\n",
              "    .colab-df-convert {\n",
              "      background-color: #E8F0FE;\n",
              "      border: none;\n",
              "      border-radius: 50%;\n",
              "      cursor: pointer;\n",
              "      display: none;\n",
              "      fill: #1967D2;\n",
              "      height: 32px;\n",
              "      padding: 0 0 0 0;\n",
              "      width: 32px;\n",
              "    }\n",
              "\n",
              "    .colab-df-convert:hover {\n",
              "      background-color: #E2EBFA;\n",
              "      box-shadow: 0px 1px 2px rgba(60, 64, 67, 0.3), 0px 1px 3px 1px rgba(60, 64, 67, 0.15);\n",
              "      fill: #174EA6;\n",
              "    }\n",
              "\n",
              "    [theme=dark] .colab-df-convert {\n",
              "      background-color: #3B4455;\n",
              "      fill: #D2E3FC;\n",
              "    }\n",
              "\n",
              "    [theme=dark] .colab-df-convert:hover {\n",
              "      background-color: #434B5C;\n",
              "      box-shadow: 0px 1px 3px 1px rgba(0, 0, 0, 0.15);\n",
              "      filter: drop-shadow(0px 1px 2px rgba(0, 0, 0, 0.3));\n",
              "      fill: #FFFFFF;\n",
              "    }\n",
              "  </style>\n",
              "\n",
              "      <script>\n",
              "        const buttonEl =\n",
              "          document.querySelector('#df-5c46b9b9-d5e8-4c78-8fa9-312a0c3764af button.colab-df-convert');\n",
              "        buttonEl.style.display =\n",
              "          google.colab.kernel.accessAllowed ? 'block' : 'none';\n",
              "\n",
              "        async function convertToInteractive(key) {\n",
              "          const element = document.querySelector('#df-5c46b9b9-d5e8-4c78-8fa9-312a0c3764af');\n",
              "          const dataTable =\n",
              "            await google.colab.kernel.invokeFunction('convertToInteractive',\n",
              "                                                     [key], {});\n",
              "          if (!dataTable) return;\n",
              "\n",
              "          const docLinkHtml = 'Like what you see? Visit the ' +\n",
              "            '<a target=\"_blank\" href=https://colab.research.google.com/notebooks/data_table.ipynb>data table notebook</a>'\n",
              "            + ' to learn more about interactive tables.';\n",
              "          element.innerHTML = '';\n",
              "          dataTable['output_type'] = 'display_data';\n",
              "          await google.colab.output.renderOutput(dataTable, element);\n",
              "          const docLink = document.createElement('div');\n",
              "          docLink.innerHTML = docLinkHtml;\n",
              "          element.appendChild(docLink);\n",
              "        }\n",
              "      </script>\n",
              "    </div>\n",
              "  </div>\n",
              "  "
            ]
          },
          "metadata": {},
          "execution_count": 2
        }
      ]
    },
    {
      "cell_type": "markdown",
      "source": [
        "Dataset description:\n",
        "- ID: Customer's unique identifier\n",
        "- Year_Birth: Customer's birth year\n",
        "- Education: Customer's education level\n",
        "- Marital_Status: Customer's marital status\n",
        "- Income: Customer's yearly household income\n",
        "- Kidhome: Number of children in customer's household\n",
        "- Tennhome: Number of teenagers in customer's household\n",
        "- Dt_Customer: Date of customer's enrollment with the company\n",
        "- Recency: Number of days since customer's last purchase\n",
        "- MntWines: Amount spent on wine in the last 2 years\n",
        "- MntFruits: Amount spent on fruits in the last 2 years\n",
        "- MntMeatProducts: Amount spent on meat in the last 2 years\n",
        "- MntFishProducts: Amount spent on fish in the last 2 years\n",
        "- MntSweetProducts: Amount spent on sweets in the last 2 years\n",
        "- MntGoldProds: Amount spent on gold in the last 2 years\n",
        "- NumDealsPurchase: Number of purchases made with a discount\n",
        "- NumWebPurchase: Number of purchases made through the company's web site\n",
        "- NumCatalogPurchase: Number of purchases made using a catalogue\n",
        "- NumStorePurchase: Number of purchases made directly in stores\n",
        "- NumWebVisitsMonth: Number of visits to company's web site in the last month\n",
        "- AcceptedCmp3: 1 if customer accepted the offer in the 3rd campaign, 0 otherwise\n",
        "- AcceptedCmp4: 1 if customer accepted the offer in the 4th campaign, 0 otherwise\n",
        "- AcceptedCmp5: 1 if customer accepted the offer in the 5th campaign, 0 otherwise\n",
        "- AcceptedCmp1: 1 if customer accepted the offer in the 1st campaign, 0 otherwise\n",
        "- AcceptedCmp2: 2 if customer accepted the offer in the 1st campaign, 0 otherwise\n",
        "- Respones: 1 if customer accepted the offer in the last campaign, 0 otherwise\n",
        "- Complain: 1 if customer complained in the last 2 years, 0 otherwise\n",
        "- Country: Customer's location"
      ],
      "metadata": {
        "id": "XWx6gAaz1p2b"
      }
    },
    {
      "cell_type": "markdown",
      "source": [
        "# Assessing and Cleaning Data"
      ],
      "metadata": {
        "id": "Rh7Gw70aVmdt"
      }
    },
    {
      "cell_type": "markdown",
      "source": [
        "Check null and change data type"
      ],
      "metadata": {
        "id": "CfmimZ_cVsue"
      }
    },
    {
      "cell_type": "code",
      "source": [
        "df1.isnull().sum()"
      ],
      "metadata": {
        "id": "6bIcReQv1pPp",
        "colab": {
          "base_uri": "https://localhost:8080/"
        },
        "outputId": "6d6dfbc3-6d1d-4dc5-f2bc-86935bc0e1c7"
      },
      "execution_count": 3,
      "outputs": [
        {
          "output_type": "execute_result",
          "data": {
            "text/plain": [
              "ID                      0\n",
              "Year_Birth              0\n",
              "Education               0\n",
              "Marital_Status          0\n",
              " Income                24\n",
              "Kidhome                 0\n",
              "Teenhome                0\n",
              "Dt_Customer             0\n",
              "Recency                 0\n",
              "MntWines                0\n",
              "MntFruits               0\n",
              "MntMeatProducts         0\n",
              "MntFishProducts         0\n",
              "MntSweetProducts        0\n",
              "MntGoldProds            0\n",
              "NumDealsPurchases       0\n",
              "NumWebPurchases         0\n",
              "NumCatalogPurchases     0\n",
              "NumStorePurchases       0\n",
              "NumWebVisitsMonth       0\n",
              "AcceptedCmp3            0\n",
              "AcceptedCmp4            0\n",
              "AcceptedCmp5            0\n",
              "AcceptedCmp1            0\n",
              "AcceptedCmp2            0\n",
              "Response                0\n",
              "Complain                0\n",
              "Country                 0\n",
              "dtype: int64"
            ]
          },
          "metadata": {},
          "execution_count": 3
        }
      ]
    },
    {
      "cell_type": "markdown",
      "source": [
        "There is no null value in this dataset"
      ],
      "metadata": {
        "id": "hfLGfD4lVz9b"
      }
    },
    {
      "cell_type": "code",
      "source": [
        "df1.info()"
      ],
      "metadata": {
        "colab": {
          "base_uri": "https://localhost:8080/"
        },
        "id": "KnBWpRNlV6_W",
        "outputId": "f8d6e5f4-9e17-44f0-dae9-fab7b6be4a2b"
      },
      "execution_count": 4,
      "outputs": [
        {
          "output_type": "stream",
          "name": "stdout",
          "text": [
            "<class 'pandas.core.frame.DataFrame'>\n",
            "RangeIndex: 2240 entries, 0 to 2239\n",
            "Data columns (total 28 columns):\n",
            " #   Column               Non-Null Count  Dtype \n",
            "---  ------               --------------  ----- \n",
            " 0   ID                   2240 non-null   int64 \n",
            " 1   Year_Birth           2240 non-null   int64 \n",
            " 2   Education            2240 non-null   object\n",
            " 3   Marital_Status       2240 non-null   object\n",
            " 4    Income              2216 non-null   object\n",
            " 5   Kidhome              2240 non-null   int64 \n",
            " 6   Teenhome             2240 non-null   int64 \n",
            " 7   Dt_Customer          2240 non-null   object\n",
            " 8   Recency              2240 non-null   int64 \n",
            " 9   MntWines             2240 non-null   int64 \n",
            " 10  MntFruits            2240 non-null   int64 \n",
            " 11  MntMeatProducts      2240 non-null   int64 \n",
            " 12  MntFishProducts      2240 non-null   int64 \n",
            " 13  MntSweetProducts     2240 non-null   int64 \n",
            " 14  MntGoldProds         2240 non-null   int64 \n",
            " 15  NumDealsPurchases    2240 non-null   int64 \n",
            " 16  NumWebPurchases      2240 non-null   int64 \n",
            " 17  NumCatalogPurchases  2240 non-null   int64 \n",
            " 18  NumStorePurchases    2240 non-null   int64 \n",
            " 19  NumWebVisitsMonth    2240 non-null   int64 \n",
            " 20  AcceptedCmp3         2240 non-null   int64 \n",
            " 21  AcceptedCmp4         2240 non-null   int64 \n",
            " 22  AcceptedCmp5         2240 non-null   int64 \n",
            " 23  AcceptedCmp1         2240 non-null   int64 \n",
            " 24  AcceptedCmp2         2240 non-null   int64 \n",
            " 25  Response             2240 non-null   int64 \n",
            " 26  Complain             2240 non-null   int64 \n",
            " 27  Country              2240 non-null   object\n",
            "dtypes: int64(23), object(5)\n",
            "memory usage: 490.1+ KB\n"
          ]
        }
      ]
    },
    {
      "cell_type": "markdown",
      "source": [
        "- Income is object type --> float\n",
        "- Dt_Customer is object --> datetime\n",
        "- There are 24 null value --> remove all of them\n",
        "- 'Income' has two blank spaces"
      ],
      "metadata": {
        "id": "gZFFlEuQaRom"
      }
    },
    {
      "cell_type": "code",
      "source": [
        "df1=df1.dropna()\n",
        "df1.isnull().sum()"
      ],
      "metadata": {
        "colab": {
          "base_uri": "https://localhost:8080/"
        },
        "id": "axnslOMVanFF",
        "outputId": "bcf00b1f-79fc-4e82-eca2-230d2dbd67e3"
      },
      "execution_count": 5,
      "outputs": [
        {
          "output_type": "execute_result",
          "data": {
            "text/plain": [
              "ID                     0\n",
              "Year_Birth             0\n",
              "Education              0\n",
              "Marital_Status         0\n",
              " Income                0\n",
              "Kidhome                0\n",
              "Teenhome               0\n",
              "Dt_Customer            0\n",
              "Recency                0\n",
              "MntWines               0\n",
              "MntFruits              0\n",
              "MntMeatProducts        0\n",
              "MntFishProducts        0\n",
              "MntSweetProducts       0\n",
              "MntGoldProds           0\n",
              "NumDealsPurchases      0\n",
              "NumWebPurchases        0\n",
              "NumCatalogPurchases    0\n",
              "NumStorePurchases      0\n",
              "NumWebVisitsMonth      0\n",
              "AcceptedCmp3           0\n",
              "AcceptedCmp4           0\n",
              "AcceptedCmp5           0\n",
              "AcceptedCmp1           0\n",
              "AcceptedCmp2           0\n",
              "Response               0\n",
              "Complain               0\n",
              "Country                0\n",
              "dtype: int64"
            ]
          },
          "metadata": {},
          "execution_count": 5
        }
      ]
    },
    {
      "cell_type": "code",
      "source": [
        "df1[' Income ']"
      ],
      "metadata": {
        "colab": {
          "base_uri": "https://localhost:8080/"
        },
        "id": "lF0Y234Bb5LU",
        "outputId": "4fd37995-32d9-4e53-afae-6c653506464a"
      },
      "execution_count": 6,
      "outputs": [
        {
          "output_type": "execute_result",
          "data": {
            "text/plain": [
              "0       $84,835.00 \n",
              "1       $57,091.00 \n",
              "2       $67,267.00 \n",
              "3       $32,474.00 \n",
              "4       $21,474.00 \n",
              "           ...     \n",
              "2235    $66,476.00 \n",
              "2236    $31,056.00 \n",
              "2237    $46,310.00 \n",
              "2238    $65,819.00 \n",
              "2239    $94,871.00 \n",
              "Name:  Income , Length: 2216, dtype: object"
            ]
          },
          "metadata": {},
          "execution_count": 6
        }
      ]
    },
    {
      "cell_type": "code",
      "source": [
        "df1.rename(columns={' Income ':'Income'},inplace=True)\n",
        "df1.columns"
      ],
      "metadata": {
        "colab": {
          "base_uri": "https://localhost:8080/"
        },
        "id": "8Q59k6BQby77",
        "outputId": "d8834389-0b5f-4a12-c8ad-688787ec5d0c"
      },
      "execution_count": 7,
      "outputs": [
        {
          "output_type": "stream",
          "name": "stderr",
          "text": [
            "<ipython-input-7-776c8d297e7d>:1: SettingWithCopyWarning: \n",
            "A value is trying to be set on a copy of a slice from a DataFrame\n",
            "\n",
            "See the caveats in the documentation: https://pandas.pydata.org/pandas-docs/stable/user_guide/indexing.html#returning-a-view-versus-a-copy\n",
            "  df1.rename(columns={' Income ':'Income'},inplace=True)\n"
          ]
        },
        {
          "output_type": "execute_result",
          "data": {
            "text/plain": [
              "Index(['ID', 'Year_Birth', 'Education', 'Marital_Status', 'Income', 'Kidhome',\n",
              "       'Teenhome', 'Dt_Customer', 'Recency', 'MntWines', 'MntFruits',\n",
              "       'MntMeatProducts', 'MntFishProducts', 'MntSweetProducts',\n",
              "       'MntGoldProds', 'NumDealsPurchases', 'NumWebPurchases',\n",
              "       'NumCatalogPurchases', 'NumStorePurchases', 'NumWebVisitsMonth',\n",
              "       'AcceptedCmp3', 'AcceptedCmp4', 'AcceptedCmp5', 'AcceptedCmp1',\n",
              "       'AcceptedCmp2', 'Response', 'Complain', 'Country'],\n",
              "      dtype='object')"
            ]
          },
          "metadata": {},
          "execution_count": 7
        }
      ]
    },
    {
      "cell_type": "code",
      "source": [
        "df1['Income']=df1['Income'].str.replace('$','')\n",
        "df1['Income']"
      ],
      "metadata": {
        "colab": {
          "base_uri": "https://localhost:8080/"
        },
        "id": "ybkhIISuc4Qk",
        "outputId": "b05fd44e-3547-4cbb-dc70-49ffd9699f27"
      },
      "execution_count": 8,
      "outputs": [
        {
          "output_type": "stream",
          "name": "stderr",
          "text": [
            "<ipython-input-8-d96a02f028b4>:1: FutureWarning: The default value of regex will change from True to False in a future version. In addition, single character regular expressions will *not* be treated as literal strings when regex=True.\n",
            "  df1['Income']=df1['Income'].str.replace('$','')\n",
            "<ipython-input-8-d96a02f028b4>:1: SettingWithCopyWarning: \n",
            "A value is trying to be set on a copy of a slice from a DataFrame.\n",
            "Try using .loc[row_indexer,col_indexer] = value instead\n",
            "\n",
            "See the caveats in the documentation: https://pandas.pydata.org/pandas-docs/stable/user_guide/indexing.html#returning-a-view-versus-a-copy\n",
            "  df1['Income']=df1['Income'].str.replace('$','')\n"
          ]
        },
        {
          "output_type": "execute_result",
          "data": {
            "text/plain": [
              "0       84,835.00 \n",
              "1       57,091.00 \n",
              "2       67,267.00 \n",
              "3       32,474.00 \n",
              "4       21,474.00 \n",
              "           ...    \n",
              "2235    66,476.00 \n",
              "2236    31,056.00 \n",
              "2237    46,310.00 \n",
              "2238    65,819.00 \n",
              "2239    94,871.00 \n",
              "Name: Income, Length: 2216, dtype: object"
            ]
          },
          "metadata": {},
          "execution_count": 8
        }
      ]
    },
    {
      "cell_type": "code",
      "source": [
        "df1['Income']=df1['Income'].str.replace(',','')\n",
        "df1['Income']=df1['Income'].str.replace('.','')\n",
        "df1['Income']=df1['Income'].str.replace('00','')\n",
        "df1['Income']"
      ],
      "metadata": {
        "colab": {
          "base_uri": "https://localhost:8080/"
        },
        "id": "b4m0a6W2febs",
        "outputId": "9d613a1a-68a8-4fb3-fc7d-56486af9c5fa"
      },
      "execution_count": 9,
      "outputs": [
        {
          "output_type": "stream",
          "name": "stderr",
          "text": [
            "<ipython-input-9-eeac4663d181>:1: SettingWithCopyWarning: \n",
            "A value is trying to be set on a copy of a slice from a DataFrame.\n",
            "Try using .loc[row_indexer,col_indexer] = value instead\n",
            "\n",
            "See the caveats in the documentation: https://pandas.pydata.org/pandas-docs/stable/user_guide/indexing.html#returning-a-view-versus-a-copy\n",
            "  df1['Income']=df1['Income'].str.replace(',','')\n",
            "<ipython-input-9-eeac4663d181>:2: FutureWarning: The default value of regex will change from True to False in a future version. In addition, single character regular expressions will *not* be treated as literal strings when regex=True.\n",
            "  df1['Income']=df1['Income'].str.replace('.','')\n",
            "<ipython-input-9-eeac4663d181>:2: SettingWithCopyWarning: \n",
            "A value is trying to be set on a copy of a slice from a DataFrame.\n",
            "Try using .loc[row_indexer,col_indexer] = value instead\n",
            "\n",
            "See the caveats in the documentation: https://pandas.pydata.org/pandas-docs/stable/user_guide/indexing.html#returning-a-view-versus-a-copy\n",
            "  df1['Income']=df1['Income'].str.replace('.','')\n",
            "<ipython-input-9-eeac4663d181>:3: SettingWithCopyWarning: \n",
            "A value is trying to be set on a copy of a slice from a DataFrame.\n",
            "Try using .loc[row_indexer,col_indexer] = value instead\n",
            "\n",
            "See the caveats in the documentation: https://pandas.pydata.org/pandas-docs/stable/user_guide/indexing.html#returning-a-view-versus-a-copy\n",
            "  df1['Income']=df1['Income'].str.replace('00','')\n"
          ]
        },
        {
          "output_type": "execute_result",
          "data": {
            "text/plain": [
              "0       84835 \n",
              "1       57091 \n",
              "2       67267 \n",
              "3       32474 \n",
              "4       21474 \n",
              "         ...  \n",
              "2235    66476 \n",
              "2236    31056 \n",
              "2237    46310 \n",
              "2238    65819 \n",
              "2239    94871 \n",
              "Name: Income, Length: 2216, dtype: object"
            ]
          },
          "metadata": {},
          "execution_count": 9
        }
      ]
    },
    {
      "cell_type": "code",
      "source": [
        "df1['Income']=df1['Income'].astype(int)\n",
        "df1.info()"
      ],
      "metadata": {
        "colab": {
          "base_uri": "https://localhost:8080/"
        },
        "id": "DpkkMfw8fmyU",
        "outputId": "629686bc-5de4-486c-cae7-e5607bd9420b"
      },
      "execution_count": 10,
      "outputs": [
        {
          "output_type": "stream",
          "name": "stdout",
          "text": [
            "<class 'pandas.core.frame.DataFrame'>\n",
            "Int64Index: 2216 entries, 0 to 2239\n",
            "Data columns (total 28 columns):\n",
            " #   Column               Non-Null Count  Dtype \n",
            "---  ------               --------------  ----- \n",
            " 0   ID                   2216 non-null   int64 \n",
            " 1   Year_Birth           2216 non-null   int64 \n",
            " 2   Education            2216 non-null   object\n",
            " 3   Marital_Status       2216 non-null   object\n",
            " 4   Income               2216 non-null   int64 \n",
            " 5   Kidhome              2216 non-null   int64 \n",
            " 6   Teenhome             2216 non-null   int64 \n",
            " 7   Dt_Customer          2216 non-null   object\n",
            " 8   Recency              2216 non-null   int64 \n",
            " 9   MntWines             2216 non-null   int64 \n",
            " 10  MntFruits            2216 non-null   int64 \n",
            " 11  MntMeatProducts      2216 non-null   int64 \n",
            " 12  MntFishProducts      2216 non-null   int64 \n",
            " 13  MntSweetProducts     2216 non-null   int64 \n",
            " 14  MntGoldProds         2216 non-null   int64 \n",
            " 15  NumDealsPurchases    2216 non-null   int64 \n",
            " 16  NumWebPurchases      2216 non-null   int64 \n",
            " 17  NumCatalogPurchases  2216 non-null   int64 \n",
            " 18  NumStorePurchases    2216 non-null   int64 \n",
            " 19  NumWebVisitsMonth    2216 non-null   int64 \n",
            " 20  AcceptedCmp3         2216 non-null   int64 \n",
            " 21  AcceptedCmp4         2216 non-null   int64 \n",
            " 22  AcceptedCmp5         2216 non-null   int64 \n",
            " 23  AcceptedCmp1         2216 non-null   int64 \n",
            " 24  AcceptedCmp2         2216 non-null   int64 \n",
            " 25  Response             2216 non-null   int64 \n",
            " 26  Complain             2216 non-null   int64 \n",
            " 27  Country              2216 non-null   object\n",
            "dtypes: int64(24), object(4)\n",
            "memory usage: 502.1+ KB\n"
          ]
        },
        {
          "output_type": "stream",
          "name": "stderr",
          "text": [
            "<ipython-input-10-2a9251f2100b>:1: SettingWithCopyWarning: \n",
            "A value is trying to be set on a copy of a slice from a DataFrame.\n",
            "Try using .loc[row_indexer,col_indexer] = value instead\n",
            "\n",
            "See the caveats in the documentation: https://pandas.pydata.org/pandas-docs/stable/user_guide/indexing.html#returning-a-view-versus-a-copy\n",
            "  df1['Income']=df1['Income'].astype(int)\n"
          ]
        }
      ]
    },
    {
      "cell_type": "code",
      "source": [
        "df1[['Dt_Customer']]"
      ],
      "metadata": {
        "colab": {
          "base_uri": "https://localhost:8080/",
          "height": 423
        },
        "id": "7g1agXNkfu6L",
        "outputId": "4ba9a58b-4762-4484-80f5-6af656b3ca44"
      },
      "execution_count": 11,
      "outputs": [
        {
          "output_type": "execute_result",
          "data": {
            "text/plain": [
              "     Dt_Customer\n",
              "0        6/16/14\n",
              "1        6/15/14\n",
              "2        5/13/14\n",
              "3        5/11/14\n",
              "4         4/8/14\n",
              "...          ...\n",
              "2235      3/7/13\n",
              "2236     1/22/13\n",
              "2237     12/3/12\n",
              "2238    11/29/12\n",
              "2239      9/1/12\n",
              "\n",
              "[2216 rows x 1 columns]"
            ],
            "text/html": [
              "\n",
              "  <div id=\"df-337bc7fa-afee-4a07-8df6-6dd1bd8d1291\">\n",
              "    <div class=\"colab-df-container\">\n",
              "      <div>\n",
              "<style scoped>\n",
              "    .dataframe tbody tr th:only-of-type {\n",
              "        vertical-align: middle;\n",
              "    }\n",
              "\n",
              "    .dataframe tbody tr th {\n",
              "        vertical-align: top;\n",
              "    }\n",
              "\n",
              "    .dataframe thead th {\n",
              "        text-align: right;\n",
              "    }\n",
              "</style>\n",
              "<table border=\"1\" class=\"dataframe\">\n",
              "  <thead>\n",
              "    <tr style=\"text-align: right;\">\n",
              "      <th></th>\n",
              "      <th>Dt_Customer</th>\n",
              "    </tr>\n",
              "  </thead>\n",
              "  <tbody>\n",
              "    <tr>\n",
              "      <th>0</th>\n",
              "      <td>6/16/14</td>\n",
              "    </tr>\n",
              "    <tr>\n",
              "      <th>1</th>\n",
              "      <td>6/15/14</td>\n",
              "    </tr>\n",
              "    <tr>\n",
              "      <th>2</th>\n",
              "      <td>5/13/14</td>\n",
              "    </tr>\n",
              "    <tr>\n",
              "      <th>3</th>\n",
              "      <td>5/11/14</td>\n",
              "    </tr>\n",
              "    <tr>\n",
              "      <th>4</th>\n",
              "      <td>4/8/14</td>\n",
              "    </tr>\n",
              "    <tr>\n",
              "      <th>...</th>\n",
              "      <td>...</td>\n",
              "    </tr>\n",
              "    <tr>\n",
              "      <th>2235</th>\n",
              "      <td>3/7/13</td>\n",
              "    </tr>\n",
              "    <tr>\n",
              "      <th>2236</th>\n",
              "      <td>1/22/13</td>\n",
              "    </tr>\n",
              "    <tr>\n",
              "      <th>2237</th>\n",
              "      <td>12/3/12</td>\n",
              "    </tr>\n",
              "    <tr>\n",
              "      <th>2238</th>\n",
              "      <td>11/29/12</td>\n",
              "    </tr>\n",
              "    <tr>\n",
              "      <th>2239</th>\n",
              "      <td>9/1/12</td>\n",
              "    </tr>\n",
              "  </tbody>\n",
              "</table>\n",
              "<p>2216 rows × 1 columns</p>\n",
              "</div>\n",
              "      <button class=\"colab-df-convert\" onclick=\"convertToInteractive('df-337bc7fa-afee-4a07-8df6-6dd1bd8d1291')\"\n",
              "              title=\"Convert this dataframe to an interactive table.\"\n",
              "              style=\"display:none;\">\n",
              "        \n",
              "  <svg xmlns=\"http://www.w3.org/2000/svg\" height=\"24px\"viewBox=\"0 0 24 24\"\n",
              "       width=\"24px\">\n",
              "    <path d=\"M0 0h24v24H0V0z\" fill=\"none\"/>\n",
              "    <path d=\"M18.56 5.44l.94 2.06.94-2.06 2.06-.94-2.06-.94-.94-2.06-.94 2.06-2.06.94zm-11 1L8.5 8.5l.94-2.06 2.06-.94-2.06-.94L8.5 2.5l-.94 2.06-2.06.94zm10 10l.94 2.06.94-2.06 2.06-.94-2.06-.94-.94-2.06-.94 2.06-2.06.94z\"/><path d=\"M17.41 7.96l-1.37-1.37c-.4-.4-.92-.59-1.43-.59-.52 0-1.04.2-1.43.59L10.3 9.45l-7.72 7.72c-.78.78-.78 2.05 0 2.83L4 21.41c.39.39.9.59 1.41.59.51 0 1.02-.2 1.41-.59l7.78-7.78 2.81-2.81c.8-.78.8-2.07 0-2.86zM5.41 20L4 18.59l7.72-7.72 1.47 1.35L5.41 20z\"/>\n",
              "  </svg>\n",
              "      </button>\n",
              "      \n",
              "  <style>\n",
              "    .colab-df-container {\n",
              "      display:flex;\n",
              "      flex-wrap:wrap;\n",
              "      gap: 12px;\n",
              "    }\n",
              "\n",
              "    .colab-df-convert {\n",
              "      background-color: #E8F0FE;\n",
              "      border: none;\n",
              "      border-radius: 50%;\n",
              "      cursor: pointer;\n",
              "      display: none;\n",
              "      fill: #1967D2;\n",
              "      height: 32px;\n",
              "      padding: 0 0 0 0;\n",
              "      width: 32px;\n",
              "    }\n",
              "\n",
              "    .colab-df-convert:hover {\n",
              "      background-color: #E2EBFA;\n",
              "      box-shadow: 0px 1px 2px rgba(60, 64, 67, 0.3), 0px 1px 3px 1px rgba(60, 64, 67, 0.15);\n",
              "      fill: #174EA6;\n",
              "    }\n",
              "\n",
              "    [theme=dark] .colab-df-convert {\n",
              "      background-color: #3B4455;\n",
              "      fill: #D2E3FC;\n",
              "    }\n",
              "\n",
              "    [theme=dark] .colab-df-convert:hover {\n",
              "      background-color: #434B5C;\n",
              "      box-shadow: 0px 1px 3px 1px rgba(0, 0, 0, 0.15);\n",
              "      filter: drop-shadow(0px 1px 2px rgba(0, 0, 0, 0.3));\n",
              "      fill: #FFFFFF;\n",
              "    }\n",
              "  </style>\n",
              "\n",
              "      <script>\n",
              "        const buttonEl =\n",
              "          document.querySelector('#df-337bc7fa-afee-4a07-8df6-6dd1bd8d1291 button.colab-df-convert');\n",
              "        buttonEl.style.display =\n",
              "          google.colab.kernel.accessAllowed ? 'block' : 'none';\n",
              "\n",
              "        async function convertToInteractive(key) {\n",
              "          const element = document.querySelector('#df-337bc7fa-afee-4a07-8df6-6dd1bd8d1291');\n",
              "          const dataTable =\n",
              "            await google.colab.kernel.invokeFunction('convertToInteractive',\n",
              "                                                     [key], {});\n",
              "          if (!dataTable) return;\n",
              "\n",
              "          const docLinkHtml = 'Like what you see? Visit the ' +\n",
              "            '<a target=\"_blank\" href=https://colab.research.google.com/notebooks/data_table.ipynb>data table notebook</a>'\n",
              "            + ' to learn more about interactive tables.';\n",
              "          element.innerHTML = '';\n",
              "          dataTable['output_type'] = 'display_data';\n",
              "          await google.colab.output.renderOutput(dataTable, element);\n",
              "          const docLink = document.createElement('div');\n",
              "          docLink.innerHTML = docLinkHtml;\n",
              "          element.appendChild(docLink);\n",
              "        }\n",
              "      </script>\n",
              "    </div>\n",
              "  </div>\n",
              "  "
            ]
          },
          "metadata": {},
          "execution_count": 11
        }
      ]
    },
    {
      "cell_type": "code",
      "source": [
        "df1['Dt_Customer']=pd.to_datetime(df1['Dt_Customer'])\n",
        "df1['Dt_Customer'].info()"
      ],
      "metadata": {
        "colab": {
          "base_uri": "https://localhost:8080/"
        },
        "id": "SdPqdWpBiSPF",
        "outputId": "f3454eca-c3b2-4dac-fe30-951131a6f9e1"
      },
      "execution_count": 12,
      "outputs": [
        {
          "output_type": "stream",
          "name": "stdout",
          "text": [
            "<class 'pandas.core.series.Series'>\n",
            "Int64Index: 2216 entries, 0 to 2239\n",
            "Series name: Dt_Customer\n",
            "Non-Null Count  Dtype         \n",
            "--------------  -----         \n",
            "2216 non-null   datetime64[ns]\n",
            "dtypes: datetime64[ns](1)\n",
            "memory usage: 34.6 KB\n"
          ]
        },
        {
          "output_type": "stream",
          "name": "stderr",
          "text": [
            "<ipython-input-12-83052fdafdaa>:1: SettingWithCopyWarning: \n",
            "A value is trying to be set on a copy of a slice from a DataFrame.\n",
            "Try using .loc[row_indexer,col_indexer] = value instead\n",
            "\n",
            "See the caveats in the documentation: https://pandas.pydata.org/pandas-docs/stable/user_guide/indexing.html#returning-a-view-versus-a-copy\n",
            "  df1['Dt_Customer']=pd.to_datetime(df1['Dt_Customer'])\n"
          ]
        }
      ]
    },
    {
      "cell_type": "markdown",
      "source": [
        "# Exploring Data and Analysis"
      ],
      "metadata": {
        "id": "z86L0S79iu0M"
      }
    },
    {
      "cell_type": "markdown",
      "source": [
        "- Are there any outliers? How will you wrangle/handle them?\n",
        "- Are there any useful variables that you can engineer with the given data?\n",
        "- Do you notice any patterns or anomalies in the data?\n",
        "- 1. High-Income People?\n",
        "- 2. People having kids at home?\n",
        "- 3. People who purchased with high average order volume?"
      ],
      "metadata": {
        "id": "52bphROLi3zs"
      }
    },
    {
      "cell_type": "code",
      "source": [
        "df2=df1.copy()"
      ],
      "metadata": {
        "id": "r1Z8tBAji5XH"
      },
      "execution_count": 13,
      "outputs": []
    },
    {
      "cell_type": "code",
      "source": [
        "#check outlier of data\n",
        "df_plot_outlier=df1.drop(columns=['ID', 'AcceptedCmp1', 'AcceptedCmp2', 'AcceptedCmp3', 'AcceptedCmp4', 'AcceptedCmp5', 'Response', 'Complain'])\n",
        "df_plot_outlier.columns"
      ],
      "metadata": {
        "colab": {
          "base_uri": "https://localhost:8080/"
        },
        "id": "edSTacGrjOnt",
        "outputId": "d97c985f-b00b-4f04-8d2f-2fa2357985eb"
      },
      "execution_count": 14,
      "outputs": [
        {
          "output_type": "execute_result",
          "data": {
            "text/plain": [
              "Index(['Year_Birth', 'Education', 'Marital_Status', 'Income', 'Kidhome',\n",
              "       'Teenhome', 'Dt_Customer', 'Recency', 'MntWines', 'MntFruits',\n",
              "       'MntMeatProducts', 'MntFishProducts', 'MntSweetProducts',\n",
              "       'MntGoldProds', 'NumDealsPurchases', 'NumWebPurchases',\n",
              "       'NumCatalogPurchases', 'NumStorePurchases', 'NumWebVisitsMonth',\n",
              "       'Country'],\n",
              "      dtype='object')"
            ]
          },
          "metadata": {},
          "execution_count": 14
        }
      ]
    },
    {
      "cell_type": "code",
      "source": [
        "df_plot_outlier.shape"
      ],
      "metadata": {
        "colab": {
          "base_uri": "https://localhost:8080/"
        },
        "id": "MldHxDaJlwYR",
        "outputId": "3b56f183-2eab-42b1-9ea8-9a59a3ac3e99"
      },
      "execution_count": 15,
      "outputs": [
        {
          "output_type": "execute_result",
          "data": {
            "text/plain": [
              "(2216, 20)"
            ]
          },
          "metadata": {},
          "execution_count": 15
        }
      ]
    },
    {
      "cell_type": "code",
      "source": [
        "#plot all attributes\n",
        "df_plot_outlier.plot(subplots=True, kind='box', layout=(4,4),figsize=(20,10))\n",
        "plt.suptitle('Outliers')"
      ],
      "metadata": {
        "colab": {
          "base_uri": "https://localhost:8080/",
          "height": 639
        },
        "id": "nevecpyOl0xF",
        "outputId": "abace7c3-b884-4d5c-8547-fd3d041cbefa"
      },
      "execution_count": 16,
      "outputs": [
        {
          "output_type": "execute_result",
          "data": {
            "text/plain": [
              "Text(0.5, 0.98, 'Outliers')"
            ]
          },
          "metadata": {},
          "execution_count": 16
        },
        {
          "output_type": "display_data",
          "data": {
            "text/plain": [
              "<Figure size 2000x1000 with 16 Axes>"
            ],
            "image/png": "[encoded data removed]"
          },
          "metadata": {}
        }
      ]
    },
    {
      "cell_type": "markdown",
      "source": [
        "I will remove outliers of Year Birth because they seem to be error because it is impossible for someone who was born in 1900 still alive."
      ],
      "metadata": {
        "id": "nwCkFMByhcy0"
      }
    },
    {
      "cell_type": "code",
      "source": [
        "q1=np.percentile(df2['Year_Birth'],25)\n",
        "q3=np.percentile(df2['Year_Birth'],75)\n",
        "iqr=q3-q1"
      ],
      "metadata": {
        "id": "1orPubP7jONg"
      },
      "execution_count": 17,
      "outputs": []
    },
    {
      "cell_type": "code",
      "source": [
        "q1"
      ],
      "metadata": {
        "colab": {
          "base_uri": "https://localhost:8080/"
        },
        "id": "Xp00TOkelfvr",
        "outputId": "3101ee73-f76f-4eaa-b5aa-731b623da38f"
      },
      "execution_count": 18,
      "outputs": [
        {
          "output_type": "execute_result",
          "data": {
            "text/plain": [
              "1959.0"
            ]
          },
          "metadata": {},
          "execution_count": 18
        }
      ]
    },
    {
      "cell_type": "code",
      "source": [
        "lower_bound=q1-1.5*iqr\n",
        "upper_bound=q3+1.5*iqr"
      ],
      "metadata": {
        "id": "IJ47hm61jnID"
      },
      "execution_count": 19,
      "outputs": []
    },
    {
      "cell_type": "code",
      "source": [
        "df2"
      ],
      "metadata": {
        "colab": {
          "base_uri": "https://localhost:8080/",
          "height": 487
        },
        "id": "bba_L55tkOVg",
        "outputId": "9106e2b1-4fbe-4a9d-baa0-f34f478a1248"
      },
      "execution_count": 20,
      "outputs": [
        {
          "output_type": "execute_result",
          "data": {
            "text/plain": [
              "         ID  Year_Birth   Education Marital_Status  Income  Kidhome  Teenhome  \\\n",
              "0      1826        1970  Graduation       Divorced   84835        0         0   \n",
              "1         1        1961  Graduation         Single   57091        0         0   \n",
              "2     10476        1958  Graduation        Married   67267        0         1   \n",
              "3      1386        1967  Graduation       Together   32474        1         1   \n",
              "4      5371        1989  Graduation         Single   21474        1         0   \n",
              "...     ...         ...         ...            ...     ...      ...       ...   \n",
              "2235  10142        1976         PhD       Divorced   66476        0         1   \n",
              "2236   5263        1977    2n Cycle        Married   31056        1         0   \n",
              "2237     22        1976  Graduation       Divorced   46310        1         0   \n",
              "2238    528        1978  Graduation        Married   65819        0         0   \n",
              "2239   4070        1969         PhD        Married   94871        0         2   \n",
              "\n",
              "     Dt_Customer  Recency  MntWines  ...  NumStorePurchases  \\\n",
              "0     2014-06-16        0       189  ...                  6   \n",
              "1     2014-06-15        0       464  ...                  7   \n",
              "2     2014-05-13        0       134  ...                  5   \n",
              "3     2014-05-11        0        10  ...                  2   \n",
              "4     2014-04-08        0         6  ...                  2   \n",
              "...          ...      ...       ...  ...                ...   \n",
              "2235  2013-03-07       99       372  ...                 11   \n",
              "2236  2013-01-22       99         5  ...                  3   \n",
              "2237  2012-12-03       99       185  ...                  5   \n",
              "2238  2012-11-29       99       267  ...                 10   \n",
              "2239  2012-09-01       99       169  ...                  4   \n",
              "\n",
              "      NumWebVisitsMonth  AcceptedCmp3  AcceptedCmp4  AcceptedCmp5  \\\n",
              "0                     1             0             0             0   \n",
              "1                     5             0             0             0   \n",
              "2                     2             0             0             0   \n",
              "3                     7             0             0             0   \n",
              "4                     7             1             0             0   \n",
              "...                 ...           ...           ...           ...   \n",
              "2235                  4             0             0             0   \n",
              "2236                  8             0             0             0   \n",
              "2237                  8             0             0             0   \n",
              "2238                  3             0             0             0   \n",
              "2239                  7             0             1             1   \n",
              "\n",
              "      AcceptedCmp1  AcceptedCmp2  Response  Complain  Country  \n",
              "0                0             0         1         0       SP  \n",
              "1                0             1         1         0       CA  \n",
              "2                0             0         0         0       US  \n",
              "3                0             0         0         0      AUS  \n",
              "4                0             0         1         0       SP  \n",
              "...            ...           ...       ...       ...      ...  \n",
              "2235             0             0         0         0       US  \n",
              "2236             0             0         0         0       SP  \n",
              "2237             0             0         0         0       SP  \n",
              "2238             0             0         0         0      IND  \n",
              "2239             0             0         1         0       CA  \n",
              "\n",
              "[2216 rows x 28 columns]"
            ],
            "text/html": [
              "\n",
              "  <div id=\"df-fcb9eed2-6511-4968-b300-99afeb78a14c\">\n",
              "    <div class=\"colab-df-container\">\n",
              "      <div>\n",
              "<style scoped>\n",
              "    .dataframe tbody tr th:only-of-type {\n",
              "        vertical-align: middle;\n",
              "    }\n",
              "\n",
              "    .dataframe tbody tr th {\n",
              "        vertical-align: top;\n",
              "    }\n",
              "\n",
              "    .dataframe thead th {\n",
              "        text-align: right;\n",
              "    }\n",
              "</style>\n",
              "<table border=\"1\" class=\"dataframe\">\n",
              "  <thead>\n",
              "    <tr style=\"text-align: right;\">\n",
              "      <th></th>\n",
              "      <th>ID</th>\n",
              "      <th>Year_Birth</th>\n",
              "      <th>Education</th>\n",
              "      <th>Marital_Status</th>\n",
              "      <th>Income</th>\n",
              "      <th>Kidhome</th>\n",
              "      <th>Teenhome</th>\n",
              "      <th>Dt_Customer</th>\n",
              "      <th>Recency</th>\n",
              "      <th>MntWines</th>\n",
              "      <th>...</th>\n",
              "      <th>NumStorePurchases</th>\n",
              "      <th>NumWebVisitsMonth</th>\n",
              "      <th>AcceptedCmp3</th>\n",
              "      <th>AcceptedCmp4</th>\n",
              "      <th>AcceptedCmp5</th>\n",
              "      <th>AcceptedCmp1</th>\n",
              "      <th>AcceptedCmp2</th>\n",
              "      <th>Response</th>\n",
              "      <th>Complain</th>\n",
              "      <th>Country</th>\n",
              "    </tr>\n",
              "  </thead>\n",
              "  <tbody>\n",
              "    <tr>\n",
              "      <th>0</th>\n",
              "      <td>1826</td>\n",
              "      <td>1970</td>\n",
              "      <td>Graduation</td>\n",
              "      <td>Divorced</td>\n",
              "      <td>84835</td>\n",
              "      <td>0</td>\n",
              "      <td>0</td>\n",
              "      <td>2014-06-16</td>\n",
              "      <td>0</td>\n",
              "      <td>189</td>\n",
              "      <td>...</td>\n",
              "      <td>6</td>\n",
              "      <td>1</td>\n",
              "      <td>0</td>\n",
              "      <td>0</td>\n",
              "      <td>0</td>\n",
              "      <td>0</td>\n",
              "      <td>0</td>\n",
              "      <td>1</td>\n",
              "      <td>0</td>\n",
              "      <td>SP</td>\n",
              "    </tr>\n",
              "    <tr>\n",
              "      <th>1</th>\n",
              "      <td>1</td>\n",
              "      <td>1961</td>\n",
              "      <td>Graduation</td>\n",
              "      <td>Single</td>\n",
              "      <td>57091</td>\n",
              "      <td>0</td>\n",
              "      <td>0</td>\n",
              "      <td>2014-06-15</td>\n",
              "      <td>0</td>\n",
              "      <td>464</td>\n",
              "      <td>...</td>\n",
              "      <td>7</td>\n",
              "      <td>5</td>\n",
              "      <td>0</td>\n",
              "      <td>0</td>\n",
              "      <td>0</td>\n",
              "      <td>0</td>\n",
              "      <td>1</td>\n",
              "      <td>1</td>\n",
              "      <td>0</td>\n",
              "      <td>CA</td>\n",
              "    </tr>\n",
              "    <tr>\n",
              "      <th>2</th>\n",
              "      <td>10476</td>\n",
              "      <td>1958</td>\n",
              "      <td>Graduation</td>\n",
              "      <td>Married</td>\n",
              "      <td>67267</td>\n",
              "      <td>0</td>\n",
              "      <td>1</td>\n",
              "      <td>2014-05-13</td>\n",
              "      <td>0</td>\n",
              "      <td>134</td>\n",
              "      <td>...</td>\n",
              "      <td>5</td>\n",
              "      <td>2</td>\n",
              "      <td>0</td>\n",
              "      <td>0</td>\n",
              "      <td>0</td>\n",
              "      <td>0</td>\n",
              "      <td>0</td>\n",
              "      <td>0</td>\n",
              "      <td>0</td>\n",
              "      <td>US</td>\n",
              "    </tr>\n",
              "    <tr>\n",
              "      <th>3</th>\n",
              "      <td>1386</td>\n",
              "      <td>1967</td>\n",
              "      <td>Graduation</td>\n",
              "      <td>Together</td>\n",
              "      <td>32474</td>\n",
              "      <td>1</td>\n",
              "      <td>1</td>\n",
              "      <td>2014-05-11</td>\n",
              "      <td>0</td>\n",
              "      <td>10</td>\n",
              "      <td>...</td>\n",
              "      <td>2</td>\n",
              "      <td>7</td>\n",
              "      <td>0</td>\n",
              "      <td>0</td>\n",
              "      <td>0</td>\n",
              "      <td>0</td>\n",
              "      <td>0</td>\n",
              "      <td>0</td>\n",
              "      <td>0</td>\n",
              "      <td>AUS</td>\n",
              "    </tr>\n",
              "    <tr>\n",
              "      <th>4</th>\n",
              "      <td>5371</td>\n",
              "      <td>1989</td>\n",
              "      <td>Graduation</td>\n",
              "      <td>Single</td>\n",
              "      <td>21474</td>\n",
              "      <td>1</td>\n",
              "      <td>0</td>\n",
              "      <td>2014-04-08</td>\n",
              "      <td>0</td>\n",
              "      <td>6</td>\n",
              "      <td>...</td>\n",
              "      <td>2</td>\n",
              "      <td>7</td>\n",
              "      <td>1</td>\n",
              "      <td>0</td>\n",
              "      <td>0</td>\n",
              "      <td>0</td>\n",
              "      <td>0</td>\n",
              "      <td>1</td>\n",
              "      <td>0</td>\n",
              "      <td>SP</td>\n",
              "    </tr>\n",
              "    <tr>\n",
              "      <th>...</th>\n",
              "      <td>...</td>\n",
              "      <td>...</td>\n",
              "      <td>...</td>\n",
              "      <td>...</td>\n",
              "      <td>...</td>\n",
              "      <td>...</td>\n",
              "      <td>...</td>\n",
              "      <td>...</td>\n",
              "      <td>...</td>\n",
              "      <td>...</td>\n",
              "      <td>...</td>\n",
              "      <td>...</td>\n",
              "      <td>...</td>\n",
              "      <td>...</td>\n",
              "      <td>...</td>\n",
              "      <td>...</td>\n",
              "      <td>...</td>\n",
              "      <td>...</td>\n",
              "      <td>...</td>\n",
              "      <td>...</td>\n",
              "      <td>...</td>\n",
              "    </tr>\n",
              "    <tr>\n",
              "      <th>2235</th>\n",
              "      <td>10142</td>\n",
              "      <td>1976</td>\n",
              "      <td>PhD</td>\n",
              "      <td>Divorced</td>\n",
              "      <td>66476</td>\n",
              "      <td>0</td>\n",
              "      <td>1</td>\n",
              "      <td>2013-03-07</td>\n",
              "      <td>99</td>\n",
              "      <td>372</td>\n",
              "      <td>...</td>\n",
              "      <td>11</td>\n",
              "      <td>4</td>\n",
              "      <td>0</td>\n",
              "      <td>0</td>\n",
              "      <td>0</td>\n",
              "      <td>0</td>\n",
              "      <td>0</td>\n",
              "      <td>0</td>\n",
              "      <td>0</td>\n",
              "      <td>US</td>\n",
              "    </tr>\n",
              "    <tr>\n",
              "      <th>2236</th>\n",
              "      <td>5263</td>\n",
              "      <td>1977</td>\n",
              "      <td>2n Cycle</td>\n",
              "      <td>Married</td>\n",
              "      <td>31056</td>\n",
              "      <td>1</td>\n",
              "      <td>0</td>\n",
              "      <td>2013-01-22</td>\n",
              "      <td>99</td>\n",
              "      <td>5</td>\n",
              "      <td>...</td>\n",
              "      <td>3</td>\n",
              "      <td>8</td>\n",
              "      <td>0</td>\n",
              "      <td>0</td>\n",
              "      <td>0</td>\n",
              "      <td>0</td>\n",
              "      <td>0</td>\n",
              "      <td>0</td>\n",
              "      <td>0</td>\n",
              "      <td>SP</td>\n",
              "    </tr>\n",
              "    <tr>\n",
              "      <th>2237</th>\n",
              "      <td>22</td>\n",
              "      <td>1976</td>\n",
              "      <td>Graduation</td>\n",
              "      <td>Divorced</td>\n",
              "      <td>46310</td>\n",
              "      <td>1</td>\n",
              "      <td>0</td>\n",
              "      <td>2012-12-03</td>\n",
              "      <td>99</td>\n",
              "      <td>185</td>\n",
              "      <td>...</td>\n",
              "      <td>5</td>\n",
              "      <td>8</td>\n",
              "      <td>0</td>\n",
              "      <td>0</td>\n",
              "      <td>0</td>\n",
              "      <td>0</td>\n",
              "      <td>0</td>\n",
              "      <td>0</td>\n",
              "      <td>0</td>\n",
              "      <td>SP</td>\n",
              "    </tr>\n",
              "    <tr>\n",
              "      <th>2238</th>\n",
              "      <td>528</td>\n",
              "      <td>1978</td>\n",
              "      <td>Graduation</td>\n",
              "      <td>Married</td>\n",
              "      <td>65819</td>\n",
              "      <td>0</td>\n",
              "      <td>0</td>\n",
              "      <td>2012-11-29</td>\n",
              "      <td>99</td>\n",
              "      <td>267</td>\n",
              "      <td>...</td>\n",
              "      <td>10</td>\n",
              "      <td>3</td>\n",
              "      <td>0</td>\n",
              "      <td>0</td>\n",
              "      <td>0</td>\n",
              "      <td>0</td>\n",
              "      <td>0</td>\n",
              "      <td>0</td>\n",
              "      <td>0</td>\n",
              "      <td>IND</td>\n",
              "    </tr>\n",
              "    <tr>\n",
              "      <th>2239</th>\n",
              "      <td>4070</td>\n",
              "      <td>1969</td>\n",
              "      <td>PhD</td>\n",
              "      <td>Married</td>\n",
              "      <td>94871</td>\n",
              "      <td>0</td>\n",
              "      <td>2</td>\n",
              "      <td>2012-09-01</td>\n",
              "      <td>99</td>\n",
              "      <td>169</td>\n",
              "      <td>...</td>\n",
              "      <td>4</td>\n",
              "      <td>7</td>\n",
              "      <td>0</td>\n",
              "      <td>1</td>\n",
              "      <td>1</td>\n",
              "      <td>0</td>\n",
              "      <td>0</td>\n",
              "      <td>1</td>\n",
              "      <td>0</td>\n",
              "      <td>CA</td>\n",
              "    </tr>\n",
              "  </tbody>\n",
              "</table>\n",
              "<p>2216 rows × 28 columns</p>\n",
              "</div>\n",
              "      <button class=\"colab-df-convert\" onclick=\"convertToInteractive('df-fcb9eed2-6511-4968-b300-99afeb78a14c')\"\n",
              "              title=\"Convert this dataframe to an interactive table.\"\n",
              "              style=\"display:none;\">\n",
              "        \n",
              "  <svg xmlns=\"http://www.w3.org/2000/svg\" height=\"24px\"viewBox=\"0 0 24 24\"\n",
              "       width=\"24px\">\n",
              "    <path d=\"M0 0h24v24H0V0z\" fill=\"none\"/>\n",
              "    <path d=\"M18.56 5.44l.94 2.06.94-2.06 2.06-.94-2.06-.94-.94-2.06-.94 2.06-2.06.94zm-11 1L8.5 8.5l.94-2.06 2.06-.94-2.06-.94L8.5 2.5l-.94 2.06-2.06.94zm10 10l.94 2.06.94-2.06 2.06-.94-2.06-.94-.94-2.06-.94 2.06-2.06.94z\"/><path d=\"M17.41 7.96l-1.37-1.37c-.4-.4-.92-.59-1.43-.59-.52 0-1.04.2-1.43.59L10.3 9.45l-7.72 7.72c-.78.78-.78 2.05 0 2.83L4 21.41c.39.39.9.59 1.41.59.51 0 1.02-.2 1.41-.59l7.78-7.78 2.81-2.81c.8-.78.8-2.07 0-2.86zM5.41 20L4 18.59l7.72-7.72 1.47 1.35L5.41 20z\"/>\n",
              "  </svg>\n",
              "      </button>\n",
              "      \n",
              "  <style>\n",
              "    .colab-df-container {\n",
              "      display:flex;\n",
              "      flex-wrap:wrap;\n",
              "      gap: 12px;\n",
              "    }\n",
              "\n",
              "    .colab-df-convert {\n",
              "      background-color: #E8F0FE;\n",
              "      border: none;\n",
              "      border-radius: 50%;\n",
              "      cursor: pointer;\n",
              "      display: none;\n",
              "      fill: #1967D2;\n",
              "      height: 32px;\n",
              "      padding: 0 0 0 0;\n",
              "      width: 32px;\n",
              "    }\n",
              "\n",
              "    .colab-df-convert:hover {\n",
              "      background-color: #E2EBFA;\n",
              "      box-shadow: 0px 1px 2px rgba(60, 64, 67, 0.3), 0px 1px 3px 1px rgba(60, 64, 67, 0.15);\n",
              "      fill: #174EA6;\n",
              "    }\n",
              "\n",
              "    [theme=dark] .colab-df-convert {\n",
              "      background-color: #3B4455;\n",
              "      fill: #D2E3FC;\n",
              "    }\n",
              "\n",
              "    [theme=dark] .colab-df-convert:hover {\n",
              "      background-color: #434B5C;\n",
              "      box-shadow: 0px 1px 3px 1px rgba(0, 0, 0, 0.15);\n",
              "      filter: drop-shadow(0px 1px 2px rgba(0, 0, 0, 0.3));\n",
              "      fill: #FFFFFF;\n",
              "    }\n",
              "  </style>\n",
              "\n",
              "      <script>\n",
              "        const buttonEl =\n",
              "          document.querySelector('#df-fcb9eed2-6511-4968-b300-99afeb78a14c button.colab-df-convert');\n",
              "        buttonEl.style.display =\n",
              "          google.colab.kernel.accessAllowed ? 'block' : 'none';\n",
              "\n",
              "        async function convertToInteractive(key) {\n",
              "          const element = document.querySelector('#df-fcb9eed2-6511-4968-b300-99afeb78a14c');\n",
              "          const dataTable =\n",
              "            await google.colab.kernel.invokeFunction('convertToInteractive',\n",
              "                                                     [key], {});\n",
              "          if (!dataTable) return;\n",
              "\n",
              "          const docLinkHtml = 'Like what you see? Visit the ' +\n",
              "            '<a target=\"_blank\" href=https://colab.research.google.com/notebooks/data_table.ipynb>data table notebook</a>'\n",
              "            + ' to learn more about interactive tables.';\n",
              "          element.innerHTML = '';\n",
              "          dataTable['output_type'] = 'display_data';\n",
              "          await google.colab.output.renderOutput(dataTable, element);\n",
              "          const docLink = document.createElement('div');\n",
              "          docLink.innerHTML = docLinkHtml;\n",
              "          element.appendChild(docLink);\n",
              "        }\n",
              "      </script>\n",
              "    </div>\n",
              "  </div>\n",
              "  "
            ]
          },
          "metadata": {},
          "execution_count": 20
        }
      ]
    },
    {
      "cell_type": "code",
      "source": [
        "lower_bound"
      ],
      "metadata": {
        "colab": {
          "base_uri": "https://localhost:8080/"
        },
        "id": "jDy_0TUulZFx",
        "outputId": "95031a1a-1061-493d-90b1-638df68f3c0c"
      },
      "execution_count": 21,
      "outputs": [
        {
          "output_type": "execute_result",
          "data": {
            "text/plain": [
              "1932.0"
            ]
          },
          "metadata": {},
          "execution_count": 21
        }
      ]
    },
    {
      "cell_type": "code",
      "source": [
        "new_df = df2[df2.Year_Birth >= lower_bound]\n",
        "new_df.Year_Birth.describe()"
      ],
      "metadata": {
        "colab": {
          "base_uri": "https://localhost:8080/"
        },
        "id": "NGH9u7T6jx5j",
        "outputId": "0adb2b00-8498-4b88-cdbf-516d0f8d5e40"
      },
      "execution_count": 22,
      "outputs": [
        {
          "output_type": "execute_result",
          "data": {
            "text/plain": [
              "count    2213.000000\n",
              "mean     1968.917307\n",
              "std        11.700216\n",
              "min      1940.000000\n",
              "25%      1959.000000\n",
              "50%      1970.000000\n",
              "75%      1977.000000\n",
              "max      1996.000000\n",
              "Name: Year_Birth, dtype: float64"
            ]
          },
          "metadata": {},
          "execution_count": 22
        }
      ]
    },
    {
      "cell_type": "code",
      "source": [
        "new_df"
      ],
      "metadata": {
        "colab": {
          "base_uri": "https://localhost:8080/",
          "height": 487
        },
        "id": "SfFNVWkhlHRA",
        "outputId": "3ba28d16-dc39-4718-9bb9-ec2ceab09cad"
      },
      "execution_count": 23,
      "outputs": [
        {
          "output_type": "execute_result",
          "data": {
            "text/plain": [
              "         ID  Year_Birth   Education Marital_Status  Income  Kidhome  Teenhome  \\\n",
              "0      1826        1970  Graduation       Divorced   84835        0         0   \n",
              "1         1        1961  Graduation         Single   57091        0         0   \n",
              "2     10476        1958  Graduation        Married   67267        0         1   \n",
              "3      1386        1967  Graduation       Together   32474        1         1   \n",
              "4      5371        1989  Graduation         Single   21474        1         0   \n",
              "...     ...         ...         ...            ...     ...      ...       ...   \n",
              "2235  10142        1976         PhD       Divorced   66476        0         1   \n",
              "2236   5263        1977    2n Cycle        Married   31056        1         0   \n",
              "2237     22        1976  Graduation       Divorced   46310        1         0   \n",
              "2238    528        1978  Graduation        Married   65819        0         0   \n",
              "2239   4070        1969         PhD        Married   94871        0         2   \n",
              "\n",
              "     Dt_Customer  Recency  MntWines  ...  NumStorePurchases  \\\n",
              "0     2014-06-16        0       189  ...                  6   \n",
              "1     2014-06-15        0       464  ...                  7   \n",
              "2     2014-05-13        0       134  ...                  5   \n",
              "3     2014-05-11        0        10  ...                  2   \n",
              "4     2014-04-08        0         6  ...                  2   \n",
              "...          ...      ...       ...  ...                ...   \n",
              "2235  2013-03-07       99       372  ...                 11   \n",
              "2236  2013-01-22       99         5  ...                  3   \n",
              "2237  2012-12-03       99       185  ...                  5   \n",
              "2238  2012-11-29       99       267  ...                 10   \n",
              "2239  2012-09-01       99       169  ...                  4   \n",
              "\n",
              "      NumWebVisitsMonth  AcceptedCmp3  AcceptedCmp4  AcceptedCmp5  \\\n",
              "0                     1             0             0             0   \n",
              "1                     5             0             0             0   \n",
              "2                     2             0             0             0   \n",
              "3                     7             0             0             0   \n",
              "4                     7             1             0             0   \n",
              "...                 ...           ...           ...           ...   \n",
              "2235                  4             0             0             0   \n",
              "2236                  8             0             0             0   \n",
              "2237                  8             0             0             0   \n",
              "2238                  3             0             0             0   \n",
              "2239                  7             0             1             1   \n",
              "\n",
              "      AcceptedCmp1  AcceptedCmp2  Response  Complain  Country  \n",
              "0                0             0         1         0       SP  \n",
              "1                0             1         1         0       CA  \n",
              "2                0             0         0         0       US  \n",
              "3                0             0         0         0      AUS  \n",
              "4                0             0         1         0       SP  \n",
              "...            ...           ...       ...       ...      ...  \n",
              "2235             0             0         0         0       US  \n",
              "2236             0             0         0         0       SP  \n",
              "2237             0             0         0         0       SP  \n",
              "2238             0             0         0         0      IND  \n",
              "2239             0             0         1         0       CA  \n",
              "\n",
              "[2213 rows x 28 columns]"
            ],
            "text/html": [
              "\n",
              "  <div id=\"df-72e1efb1-f166-4883-8ae2-68d95cc6317b\">\n",
              "    <div class=\"colab-df-container\">\n",
              "      <div>\n",
              "<style scoped>\n",
              "    .dataframe tbody tr th:only-of-type {\n",
              "        vertical-align: middle;\n",
              "    }\n",
              "\n",
              "    .dataframe tbody tr th {\n",
              "        vertical-align: top;\n",
              "    }\n",
              "\n",
              "    .dataframe thead th {\n",
              "        text-align: right;\n",
              "    }\n",
              "</style>\n",
              "<table border=\"1\" class=\"dataframe\">\n",
              "  <thead>\n",
              "    <tr style=\"text-align: right;\">\n",
              "      <th></th>\n",
              "      <th>ID</th>\n",
              "      <th>Year_Birth</th>\n",
              "      <th>Education</th>\n",
              "      <th>Marital_Status</th>\n",
              "      <th>Income</th>\n",
              "      <th>Kidhome</th>\n",
              "      <th>Teenhome</th>\n",
              "      <th>Dt_Customer</th>\n",
              "      <th>Recency</th>\n",
              "      <th>MntWines</th>\n",
              "      <th>...</th>\n",
              "      <th>NumStorePurchases</th>\n",
              "      <th>NumWebVisitsMonth</th>\n",
              "      <th>AcceptedCmp3</th>\n",
              "      <th>AcceptedCmp4</th>\n",
              "      <th>AcceptedCmp5</th>\n",
              "      <th>AcceptedCmp1</th>\n",
              "      <th>AcceptedCmp2</th>\n",
              "      <th>Response</th>\n",
              "      <th>Complain</th>\n",
              "      <th>Country</th>\n",
              "    </tr>\n",
              "  </thead>\n",
              "  <tbody>\n",
              "    <tr>\n",
              "      <th>0</th>\n",
              "      <td>1826</td>\n",
              "      <td>1970</td>\n",
              "      <td>Graduation</td>\n",
              "      <td>Divorced</td>\n",
              "      <td>84835</td>\n",
              "      <td>0</td>\n",
              "      <td>0</td>\n",
              "      <td>2014-06-16</td>\n",
              "      <td>0</td>\n",
              "      <td>189</td>\n",
              "      <td>...</td>\n",
              "      <td>6</td>\n",
              "      <td>1</td>\n",
              "      <td>0</td>\n",
              "      <td>0</td>\n",
              "      <td>0</td>\n",
              "      <td>0</td>\n",
              "      <td>0</td>\n",
              "      <td>1</td>\n",
              "      <td>0</td>\n",
              "      <td>SP</td>\n",
              "    </tr>\n",
              "    <tr>\n",
              "      <th>1</th>\n",
              "      <td>1</td>\n",
              "      <td>1961</td>\n",
              "      <td>Graduation</td>\n",
              "      <td>Single</td>\n",
              "      <td>57091</td>\n",
              "      <td>0</td>\n",
              "      <td>0</td>\n",
              "      <td>2014-06-15</td>\n",
              "      <td>0</td>\n",
              "      <td>464</td>\n",
              "      <td>...</td>\n",
              "      <td>7</td>\n",
              "      <td>5</td>\n",
              "      <td>0</td>\n",
              "      <td>0</td>\n",
              "      <td>0</td>\n",
              "      <td>0</td>\n",
              "      <td>1</td>\n",
              "      <td>1</td>\n",
              "      <td>0</td>\n",
              "      <td>CA</td>\n",
              "    </tr>\n",
              "    <tr>\n",
              "      <th>2</th>\n",
              "      <td>10476</td>\n",
              "      <td>1958</td>\n",
              "      <td>Graduation</td>\n",
              "      <td>Married</td>\n",
              "      <td>67267</td>\n",
              "      <td>0</td>\n",
              "      <td>1</td>\n",
              "      <td>2014-05-13</td>\n",
              "      <td>0</td>\n",
              "      <td>134</td>\n",
              "      <td>...</td>\n",
              "      <td>5</td>\n",
              "      <td>2</td>\n",
              "      <td>0</td>\n",
              "      <td>0</td>\n",
              "      <td>0</td>\n",
              "      <td>0</td>\n",
              "      <td>0</td>\n",
              "      <td>0</td>\n",
              "      <td>0</td>\n",
              "      <td>US</td>\n",
              "    </tr>\n",
              "    <tr>\n",
              "      <th>3</th>\n",
              "      <td>1386</td>\n",
              "      <td>1967</td>\n",
              "      <td>Graduation</td>\n",
              "      <td>Together</td>\n",
              "      <td>32474</td>\n",
              "      <td>1</td>\n",
              "      <td>1</td>\n",
              "      <td>2014-05-11</td>\n",
              "      <td>0</td>\n",
              "      <td>10</td>\n",
              "      <td>...</td>\n",
              "      <td>2</td>\n",
              "      <td>7</td>\n",
              "      <td>0</td>\n",
              "      <td>0</td>\n",
              "      <td>0</td>\n",
              "      <td>0</td>\n",
              "      <td>0</td>\n",
              "      <td>0</td>\n",
              "      <td>0</td>\n",
              "      <td>AUS</td>\n",
              "    </tr>\n",
              "    <tr>\n",
              "      <th>4</th>\n",
              "      <td>5371</td>\n",
              "      <td>1989</td>\n",
              "      <td>Graduation</td>\n",
              "      <td>Single</td>\n",
              "      <td>21474</td>\n",
              "      <td>1</td>\n",
              "      <td>0</td>\n",
              "      <td>2014-04-08</td>\n",
              "      <td>0</td>\n",
              "      <td>6</td>\n",
              "      <td>...</td>\n",
              "      <td>2</td>\n",
              "      <td>7</td>\n",
              "      <td>1</td>\n",
              "      <td>0</td>\n",
              "      <td>0</td>\n",
              "      <td>0</td>\n",
              "      <td>0</td>\n",
              "      <td>1</td>\n",
              "      <td>0</td>\n",
              "      <td>SP</td>\n",
              "    </tr>\n",
              "    <tr>\n",
              "      <th>...</th>\n",
              "      <td>...</td>\n",
              "      <td>...</td>\n",
              "      <td>...</td>\n",
              "      <td>...</td>\n",
              "      <td>...</td>\n",
              "      <td>...</td>\n",
              "      <td>...</td>\n",
              "      <td>...</td>\n",
              "      <td>...</td>\n",
              "      <td>...</td>\n",
              "      <td>...</td>\n",
              "      <td>...</td>\n",
              "      <td>...</td>\n",
              "      <td>...</td>\n",
              "      <td>...</td>\n",
              "      <td>...</td>\n",
              "      <td>...</td>\n",
              "      <td>...</td>\n",
              "      <td>...</td>\n",
              "      <td>...</td>\n",
              "      <td>...</td>\n",
              "    </tr>\n",
              "    <tr>\n",
              "      <th>2235</th>\n",
              "      <td>10142</td>\n",
              "      <td>1976</td>\n",
              "      <td>PhD</td>\n",
              "      <td>Divorced</td>\n",
              "      <td>66476</td>\n",
              "      <td>0</td>\n",
              "      <td>1</td>\n",
              "      <td>2013-03-07</td>\n",
              "      <td>99</td>\n",
              "      <td>372</td>\n",
              "      <td>...</td>\n",
              "      <td>11</td>\n",
              "      <td>4</td>\n",
              "      <td>0</td>\n",
              "      <td>0</td>\n",
              "      <td>0</td>\n",
              "      <td>0</td>\n",
              "      <td>0</td>\n",
              "      <td>0</td>\n",
              "      <td>0</td>\n",
              "      <td>US</td>\n",
              "    </tr>\n",
              "    <tr>\n",
              "      <th>2236</th>\n",
              "      <td>5263</td>\n",
              "      <td>1977</td>\n",
              "      <td>2n Cycle</td>\n",
              "      <td>Married</td>\n",
              "      <td>31056</td>\n",
              "      <td>1</td>\n",
              "      <td>0</td>\n",
              "      <td>2013-01-22</td>\n",
              "      <td>99</td>\n",
              "      <td>5</td>\n",
              "      <td>...</td>\n",
              "      <td>3</td>\n",
              "      <td>8</td>\n",
              "      <td>0</td>\n",
              "      <td>0</td>\n",
              "      <td>0</td>\n",
              "      <td>0</td>\n",
              "      <td>0</td>\n",
              "      <td>0</td>\n",
              "      <td>0</td>\n",
              "      <td>SP</td>\n",
              "    </tr>\n",
              "    <tr>\n",
              "      <th>2237</th>\n",
              "      <td>22</td>\n",
              "      <td>1976</td>\n",
              "      <td>Graduation</td>\n",
              "      <td>Divorced</td>\n",
              "      <td>46310</td>\n",
              "      <td>1</td>\n",
              "      <td>0</td>\n",
              "      <td>2012-12-03</td>\n",
              "      <td>99</td>\n",
              "      <td>185</td>\n",
              "      <td>...</td>\n",
              "      <td>5</td>\n",
              "      <td>8</td>\n",
              "      <td>0</td>\n",
              "      <td>0</td>\n",
              "      <td>0</td>\n",
              "      <td>0</td>\n",
              "      <td>0</td>\n",
              "      <td>0</td>\n",
              "      <td>0</td>\n",
              "      <td>SP</td>\n",
              "    </tr>\n",
              "    <tr>\n",
              "      <th>2238</th>\n",
              "      <td>528</td>\n",
              "      <td>1978</td>\n",
              "      <td>Graduation</td>\n",
              "      <td>Married</td>\n",
              "      <td>65819</td>\n",
              "      <td>0</td>\n",
              "      <td>0</td>\n",
              "      <td>2012-11-29</td>\n",
              "      <td>99</td>\n",
              "      <td>267</td>\n",
              "      <td>...</td>\n",
              "      <td>10</td>\n",
              "      <td>3</td>\n",
              "      <td>0</td>\n",
              "      <td>0</td>\n",
              "      <td>0</td>\n",
              "      <td>0</td>\n",
              "      <td>0</td>\n",
              "      <td>0</td>\n",
              "      <td>0</td>\n",
              "      <td>IND</td>\n",
              "    </tr>\n",
              "    <tr>\n",
              "      <th>2239</th>\n",
              "      <td>4070</td>\n",
              "      <td>1969</td>\n",
              "      <td>PhD</td>\n",
              "      <td>Married</td>\n",
              "      <td>94871</td>\n",
              "      <td>0</td>\n",
              "      <td>2</td>\n",
              "      <td>2012-09-01</td>\n",
              "      <td>99</td>\n",
              "      <td>169</td>\n",
              "      <td>...</td>\n",
              "      <td>4</td>\n",
              "      <td>7</td>\n",
              "      <td>0</td>\n",
              "      <td>1</td>\n",
              "      <td>1</td>\n",
              "      <td>0</td>\n",
              "      <td>0</td>\n",
              "      <td>1</td>\n",
              "      <td>0</td>\n",
              "      <td>CA</td>\n",
              "    </tr>\n",
              "  </tbody>\n",
              "</table>\n",
              "<p>2213 rows × 28 columns</p>\n",
              "</div>\n",
              "      <button class=\"colab-df-convert\" onclick=\"convertToInteractive('df-72e1efb1-f166-4883-8ae2-68d95cc6317b')\"\n",
              "              title=\"Convert this dataframe to an interactive table.\"\n",
              "              style=\"display:none;\">\n",
              "        \n",
              "  <svg xmlns=\"http://www.w3.org/2000/svg\" height=\"24px\"viewBox=\"0 0 24 24\"\n",
              "       width=\"24px\">\n",
              "    <path d=\"M0 0h24v24H0V0z\" fill=\"none\"/>\n",
              "    <path d=\"M18.56 5.44l.94 2.06.94-2.06 2.06-.94-2.06-.94-.94-2.06-.94 2.06-2.06.94zm-11 1L8.5 8.5l.94-2.06 2.06-.94-2.06-.94L8.5 2.5l-.94 2.06-2.06.94zm10 10l.94 2.06.94-2.06 2.06-.94-2.06-.94-.94-2.06-.94 2.06-2.06.94z\"/><path d=\"M17.41 7.96l-1.37-1.37c-.4-.4-.92-.59-1.43-.59-.52 0-1.04.2-1.43.59L10.3 9.45l-7.72 7.72c-.78.78-.78 2.05 0 2.83L4 21.41c.39.39.9.59 1.41.59.51 0 1.02-.2 1.41-.59l7.78-7.78 2.81-2.81c.8-.78.8-2.07 0-2.86zM5.41 20L4 18.59l7.72-7.72 1.47 1.35L5.41 20z\"/>\n",
              "  </svg>\n",
              "      </button>\n",
              "      \n",
              "  <style>\n",
              "    .colab-df-container {\n",
              "      display:flex;\n",
              "      flex-wrap:wrap;\n",
              "      gap: 12px;\n",
              "    }\n",
              "\n",
              "    .colab-df-convert {\n",
              "      background-color: #E8F0FE;\n",
              "      border: none;\n",
              "      border-radius: 50%;\n",
              "      cursor: pointer;\n",
              "      display: none;\n",
              "      fill: #1967D2;\n",
              "      height: 32px;\n",
              "      padding: 0 0 0 0;\n",
              "      width: 32px;\n",
              "    }\n",
              "\n",
              "    .colab-df-convert:hover {\n",
              "      background-color: #E2EBFA;\n",
              "      box-shadow: 0px 1px 2px rgba(60, 64, 67, 0.3), 0px 1px 3px 1px rgba(60, 64, 67, 0.15);\n",
              "      fill: #174EA6;\n",
              "    }\n",
              "\n",
              "    [theme=dark] .colab-df-convert {\n",
              "      background-color: #3B4455;\n",
              "      fill: #D2E3FC;\n",
              "    }\n",
              "\n",
              "    [theme=dark] .colab-df-convert:hover {\n",
              "      background-color: #434B5C;\n",
              "      box-shadow: 0px 1px 3px 1px rgba(0, 0, 0, 0.15);\n",
              "      filter: drop-shadow(0px 1px 2px rgba(0, 0, 0, 0.3));\n",
              "      fill: #FFFFFF;\n",
              "    }\n",
              "  </style>\n",
              "\n",
              "      <script>\n",
              "        const buttonEl =\n",
              "          document.querySelector('#df-72e1efb1-f166-4883-8ae2-68d95cc6317b button.colab-df-convert');\n",
              "        buttonEl.style.display =\n",
              "          google.colab.kernel.accessAllowed ? 'block' : 'none';\n",
              "\n",
              "        async function convertToInteractive(key) {\n",
              "          const element = document.querySelector('#df-72e1efb1-f166-4883-8ae2-68d95cc6317b');\n",
              "          const dataTable =\n",
              "            await google.colab.kernel.invokeFunction('convertToInteractive',\n",
              "                                                     [key], {});\n",
              "          if (!dataTable) return;\n",
              "\n",
              "          const docLinkHtml = 'Like what you see? Visit the ' +\n",
              "            '<a target=\"_blank\" href=https://colab.research.google.com/notebooks/data_table.ipynb>data table notebook</a>'\n",
              "            + ' to learn more about interactive tables.';\n",
              "          element.innerHTML = '';\n",
              "          dataTable['output_type'] = 'display_data';\n",
              "          await google.colab.output.renderOutput(dataTable, element);\n",
              "          const docLink = document.createElement('div');\n",
              "          docLink.innerHTML = docLinkHtml;\n",
              "          element.appendChild(docLink);\n",
              "        }\n",
              "      </script>\n",
              "    </div>\n",
              "  </div>\n",
              "  "
            ]
          },
          "metadata": {},
          "execution_count": 23
        }
      ]
    },
    {
      "cell_type": "markdown",
      "source": [
        "I will create some variables which are useful"
      ],
      "metadata": {
        "id": "z1_7Rxh-nzp0"
      }
    },
    {
      "cell_type": "code",
      "source": [
        "new_df.info()"
      ],
      "metadata": {
        "colab": {
          "base_uri": "https://localhost:8080/"
        },
        "id": "C6hBfm1Enyvk",
        "outputId": "9e8dc662-5e30-44f5-b369-e925cfbf7ccb"
      },
      "execution_count": 24,
      "outputs": [
        {
          "output_type": "stream",
          "name": "stdout",
          "text": [
            "<class 'pandas.core.frame.DataFrame'>\n",
            "Int64Index: 2213 entries, 0 to 2239\n",
            "Data columns (total 28 columns):\n",
            " #   Column               Non-Null Count  Dtype         \n",
            "---  ------               --------------  -----         \n",
            " 0   ID                   2213 non-null   int64         \n",
            " 1   Year_Birth           2213 non-null   int64         \n",
            " 2   Education            2213 non-null   object        \n",
            " 3   Marital_Status       2213 non-null   object        \n",
            " 4   Income               2213 non-null   int64         \n",
            " 5   Kidhome              2213 non-null   int64         \n",
            " 6   Teenhome             2213 non-null   int64         \n",
            " 7   Dt_Customer          2213 non-null   datetime64[ns]\n",
            " 8   Recency              2213 non-null   int64         \n",
            " 9   MntWines             2213 non-null   int64         \n",
            " 10  MntFruits            2213 non-null   int64         \n",
            " 11  MntMeatProducts      2213 non-null   int64         \n",
            " 12  MntFishProducts      2213 non-null   int64         \n",
            " 13  MntSweetProducts     2213 non-null   int64         \n",
            " 14  MntGoldProds         2213 non-null   int64         \n",
            " 15  NumDealsPurchases    2213 non-null   int64         \n",
            " 16  NumWebPurchases      2213 non-null   int64         \n",
            " 17  NumCatalogPurchases  2213 non-null   int64         \n",
            " 18  NumStorePurchases    2213 non-null   int64         \n",
            " 19  NumWebVisitsMonth    2213 non-null   int64         \n",
            " 20  AcceptedCmp3         2213 non-null   int64         \n",
            " 21  AcceptedCmp4         2213 non-null   int64         \n",
            " 22  AcceptedCmp5         2213 non-null   int64         \n",
            " 23  AcceptedCmp1         2213 non-null   int64         \n",
            " 24  AcceptedCmp2         2213 non-null   int64         \n",
            " 25  Response             2213 non-null   int64         \n",
            " 26  Complain             2213 non-null   int64         \n",
            " 27  Country              2213 non-null   object        \n",
            "dtypes: datetime64[ns](1), int64(24), object(3)\n",
            "memory usage: 501.4+ KB\n"
          ]
        }
      ]
    },
    {
      "cell_type": "markdown",
      "source": [
        "- Joint date, month and year of Dt_customer (for determine which time people choose to become customer)\n",
        "- Total amount\n",
        "- Total purchase\n",
        "- AOV\n",
        "- Total kids in family"
      ],
      "metadata": {
        "id": "ewnta93UoVj5"
      }
    },
    {
      "cell_type": "code",
      "source": [
        "new_df['Join_week']=new_df['Dt_Customer'].dt.weekday\n",
        "new_df['Join_month']=new_df['Dt_Customer'].dt.month\n",
        "new_df['Join_year']=new_df['Dt_Customer'].dt.year\n",
        "new_df['Total_amount']=new_df['MntFishProducts']+new_df['MntWines']+new_df['MntMeatProducts']+new_df['MntSweetProducts']+new_df['MntGoldProds']+new_df['MntFruits']\n",
        "new_df['Total_purchase']=new_df['NumDealsPurchases']+new_df['NumWebPurchases']+new_df['NumStorePurchases']+new_df['NumWebVisitsMonth']+new_df['NumCatalogPurchases']\n",
        "new_df['Total_kids']=new_df['Kidhome']+new_df['Teenhome']\n",
        "new_df['AOV']=new_df['Total_amount']/new_df['Total_purchase']\n",
        "new_df.info()"
      ],
      "metadata": {
        "colab": {
          "base_uri": "https://localhost:8080/"
        },
        "id": "95qsQdRJoU9x",
        "outputId": "85f0e721-6e97-4170-86b6-8ca4e93fcef4"
      },
      "execution_count": 25,
      "outputs": [
        {
          "output_type": "stream",
          "name": "stdout",
          "text": [
            "<class 'pandas.core.frame.DataFrame'>\n",
            "Int64Index: 2213 entries, 0 to 2239\n",
            "Data columns (total 35 columns):\n",
            " #   Column               Non-Null Count  Dtype         \n",
            "---  ------               --------------  -----         \n",
            " 0   ID                   2213 non-null   int64         \n",
            " 1   Year_Birth           2213 non-null   int64         \n",
            " 2   Education            2213 non-null   object        \n",
            " 3   Marital_Status       2213 non-null   object        \n",
            " 4   Income               2213 non-null   int64         \n",
            " 5   Kidhome              2213 non-null   int64         \n",
            " 6   Teenhome             2213 non-null   int64         \n",
            " 7   Dt_Customer          2213 non-null   datetime64[ns]\n",
            " 8   Recency              2213 non-null   int64         \n",
            " 9   MntWines             2213 non-null   int64         \n",
            " 10  MntFruits            2213 non-null   int64         \n",
            " 11  MntMeatProducts      2213 non-null   int64         \n",
            " 12  MntFishProducts      2213 non-null   int64         \n",
            " 13  MntSweetProducts     2213 non-null   int64         \n",
            " 14  MntGoldProds         2213 non-null   int64         \n",
            " 15  NumDealsPurchases    2213 non-null   int64         \n",
            " 16  NumWebPurchases      2213 non-null   int64         \n",
            " 17  NumCatalogPurchases  2213 non-null   int64         \n",
            " 18  NumStorePurchases    2213 non-null   int64         \n",
            " 19  NumWebVisitsMonth    2213 non-null   int64         \n",
            " 20  AcceptedCmp3         2213 non-null   int64         \n",
            " 21  AcceptedCmp4         2213 non-null   int64         \n",
            " 22  AcceptedCmp5         2213 non-null   int64         \n",
            " 23  AcceptedCmp1         2213 non-null   int64         \n",
            " 24  AcceptedCmp2         2213 non-null   int64         \n",
            " 25  Response             2213 non-null   int64         \n",
            " 26  Complain             2213 non-null   int64         \n",
            " 27  Country              2213 non-null   object        \n",
            " 28  Join_week            2213 non-null   int64         \n",
            " 29  Join_month           2213 non-null   int64         \n",
            " 30  Join_year            2213 non-null   int64         \n",
            " 31  Total_amount         2213 non-null   int64         \n",
            " 32  Total_purchase       2213 non-null   int64         \n",
            " 33  Total_kids           2213 non-null   int64         \n",
            " 34  AOV                  2213 non-null   float64       \n",
            "dtypes: datetime64[ns](1), float64(1), int64(30), object(3)\n",
            "memory usage: 622.4+ KB\n"
          ]
        },
        {
          "output_type": "stream",
          "name": "stderr",
          "text": [
            "<ipython-input-25-8bd6e2aa929d>:1: SettingWithCopyWarning: \n",
            "A value is trying to be set on a copy of a slice from a DataFrame.\n",
            "Try using .loc[row_indexer,col_indexer] = value instead\n",
            "\n",
            "See the caveats in the documentation: https://pandas.pydata.org/pandas-docs/stable/user_guide/indexing.html#returning-a-view-versus-a-copy\n",
            "  new_df['Join_week']=new_df['Dt_Customer'].dt.weekday\n",
            "<ipython-input-25-8bd6e2aa929d>:2: SettingWithCopyWarning: \n",
            "A value is trying to be set on a copy of a slice from a DataFrame.\n",
            "Try using .loc[row_indexer,col_indexer] = value instead\n",
            "\n",
            "See the caveats in the documentation: https://pandas.pydata.org/pandas-docs/stable/user_guide/indexing.html#returning-a-view-versus-a-copy\n",
            "  new_df['Join_month']=new_df['Dt_Customer'].dt.month\n",
            "<ipython-input-25-8bd6e2aa929d>:3: SettingWithCopyWarning: \n",
            "A value is trying to be set on a copy of a slice from a DataFrame.\n",
            "Try using .loc[row_indexer,col_indexer] = value instead\n",
            "\n",
            "See the caveats in the documentation: https://pandas.pydata.org/pandas-docs/stable/user_guide/indexing.html#returning-a-view-versus-a-copy\n",
            "  new_df['Join_year']=new_df['Dt_Customer'].dt.year\n",
            "<ipython-input-25-8bd6e2aa929d>:4: SettingWithCopyWarning: \n",
            "A value is trying to be set on a copy of a slice from a DataFrame.\n",
            "Try using .loc[row_indexer,col_indexer] = value instead\n",
            "\n",
            "See the caveats in the documentation: https://pandas.pydata.org/pandas-docs/stable/user_guide/indexing.html#returning-a-view-versus-a-copy\n",
            "  new_df['Total_amount']=new_df['MntFishProducts']+new_df['MntWines']+new_df['MntMeatProducts']+new_df['MntSweetProducts']+new_df['MntGoldProds']+new_df['MntFruits']\n",
            "<ipython-input-25-8bd6e2aa929d>:5: SettingWithCopyWarning: \n",
            "A value is trying to be set on a copy of a slice from a DataFrame.\n",
            "Try using .loc[row_indexer,col_indexer] = value instead\n",
            "\n",
            "See the caveats in the documentation: https://pandas.pydata.org/pandas-docs/stable/user_guide/indexing.html#returning-a-view-versus-a-copy\n",
            "  new_df['Total_purchase']=new_df['NumDealsPurchases']+new_df['NumWebPurchases']+new_df['NumStorePurchases']+new_df['NumWebVisitsMonth']+new_df['NumCatalogPurchases']\n",
            "<ipython-input-25-8bd6e2aa929d>:6: SettingWithCopyWarning: \n",
            "A value is trying to be set on a copy of a slice from a DataFrame.\n",
            "Try using .loc[row_indexer,col_indexer] = value instead\n",
            "\n",
            "See the caveats in the documentation: https://pandas.pydata.org/pandas-docs/stable/user_guide/indexing.html#returning-a-view-versus-a-copy\n",
            "  new_df['Total_kids']=new_df['Kidhome']+new_df['Teenhome']\n",
            "<ipython-input-25-8bd6e2aa929d>:7: SettingWithCopyWarning: \n",
            "A value is trying to be set on a copy of a slice from a DataFrame.\n",
            "Try using .loc[row_indexer,col_indexer] = value instead\n",
            "\n",
            "See the caveats in the documentation: https://pandas.pydata.org/pandas-docs/stable/user_guide/indexing.html#returning-a-view-versus-a-copy\n",
            "  new_df['AOV']=new_df['Total_amount']/new_df['Total_purchase']\n"
          ]
        }
      ]
    },
    {
      "cell_type": "markdown",
      "source": [
        "We have to find out the correlation of variable by using heatmap"
      ],
      "metadata": {
        "id": "i_fuOCBIrE2W"
      }
    },
    {
      "cell_type": "code",
      "source": [
        "df_plot_heatmap=new_df.drop(columns=['ID'])"
      ],
      "metadata": {
        "id": "n5WsueKHqy5U"
      },
      "execution_count": 26,
      "outputs": []
    },
    {
      "cell_type": "code",
      "source": [
        "import seaborn as sns\n",
        "plt.figure(figsize=(15,7))\n",
        "sns.heatmap(df_plot_heatmap.corr(),cmap = 'RdBu')\n",
        "plt.show()"
      ],
      "metadata": {
        "colab": {
          "base_uri": "https://localhost:8080/",
          "height": 699
        },
        "id": "ZjhxPpLNm-ai",
        "outputId": "c7b33439-ddc6-42cc-b3d1-436c32f049fa"
      },
      "execution_count": 27,
      "outputs": [
        {
          "output_type": "stream",
          "name": "stderr",
          "text": [
            "<ipython-input-27-c9265d164f3e>:3: FutureWarning: The default value of numeric_only in DataFrame.corr is deprecated. In a future version, it will default to False. Select only valid columns or specify the value of numeric_only to silence this warning.\n",
            "  sns.heatmap(df_plot_heatmap.corr(),cmap = 'RdBu')\n"
          ]
        },
        {
          "output_type": "display_data",
          "data": {
            "text/plain": [
              "<Figure size 1500x700 with 2 Axes>"
            ],
            "image/png": "[encoded data removed]"
          },
          "metadata": {}
        }
      ]
    },
    {
      "cell_type": "markdown",
      "source": [
        "Based on the heatmap. I figure out some insights\n",
        "1. High income people tend to\n",
        "- not buy frequently (low recency)\n",
        "- buy wines and meats (high amount)\n",
        "- not visit web frequently\n",
        "- high AOV\n",
        "2. People having kids tend to\n",
        "- buy low amount of food\n",
        "- low AOV\n",
        "- buy with deals\n",
        "- visit websites frequently\n",
        "3. People having high AOV tend to\n",
        "- not have many kids\n",
        "- not visit website \n",
        "- buy through catalog and store\n",
        "- buy high amount of meat and wines\n",
        "- high income\n"
      ],
      "metadata": {
        "id": "2ARP4KChir-i"
      }
    },
    {
      "cell_type": "code",
      "source": [
        "new_df['Complain'].value_counts()"
      ],
      "metadata": {
        "id": "zNb8GezdzqZ0",
        "colab": {
          "base_uri": "https://localhost:8080/"
        },
        "outputId": "4701c7c4-d7f7-4223-c9ce-9c8120c5c6c5"
      },
      "execution_count": 28,
      "outputs": [
        {
          "output_type": "execute_result",
          "data": {
            "text/plain": [
              "0    2193\n",
              "1      20\n",
              "Name: Complain, dtype: int64"
            ]
          },
          "metadata": {},
          "execution_count": 28
        }
      ]
    },
    {
      "cell_type": "markdown",
      "source": [],
      "metadata": {
        "id": "t3zww2p_me8Y"
      }
    },
    {
      "cell_type": "markdown",
      "source": [
        "It shows that this dataset is imbalanced in complaint so we cannot conclude that the more amount customer spend, the less complaint they have."
      ],
      "metadata": {
        "id": "FbmCm9ObmfCv"
      }
    },
    {
      "cell_type": "markdown",
      "source": [
        "# Statistical Analysis"
      ],
      "metadata": {
        "id": "5g08kEp1m5lN"
      }
    },
    {
      "cell_type": "markdown",
      "source": [
        "- What factors are significantly related to the number of store purchases?\n",
        "- Fish has Omega 3 fatty acids, which are good for the brain. Accordingly, do “Married Ph.D. candidates” have a significant relation with the amount spent on fish?"
      ],
      "metadata": {
        "id": "H_3GOqx2nmWO"
      }
    },
    {
      "cell_type": "code",
      "source": [
        "# What factors are significantly related to the number of store purchases?\n",
        "# use randome forest to predict then use importance score\n",
        "#--tạo dataframe mới để chạy mô hình randomforest (đây là mô hình có độ chính xác cao và vừa phân loại vừa hồi quy)\n",
        "rd_df=new_df.drop(columns=['ID','Dt_Customer'])\n",
        "#--thay thế các giá trị vô cùng (nếu có) thành giá trị 0\n",
        "rd_df.replace([np.inf,-np.inf],0,inplace=True)\n",
        "#--chuyển cột kiểu string thành số (one-hot coding) bằng get_dummies\n",
        "rd_df=pd.get_dummies(rd_df)\n",
        "rd_df.head()"
      ],
      "metadata": {
        "colab": {
          "base_uri": "https://localhost:8080/",
          "height": 299
        },
        "id": "9S_bfHYHnuVq",
        "outputId": "11570984-a32e-4e3b-8775-c1eb1e7f65d7"
      },
      "execution_count": 29,
      "outputs": [
        {
          "output_type": "execute_result",
          "data": {
            "text/plain": [
              "   Year_Birth  Income  Kidhome  Teenhome  Recency  MntWines  MntFruits  \\\n",
              "0        1970   84835        0         0        0       189        104   \n",
              "1        1961   57091        0         0        0       464          5   \n",
              "2        1958   67267        0         1        0       134         11   \n",
              "3        1967   32474        1         1        0        10          0   \n",
              "4        1989   21474        1         0        0         6         16   \n",
              "\n",
              "   MntMeatProducts  MntFishProducts  MntSweetProducts  ...  \\\n",
              "0              379              111               189  ...   \n",
              "1               64                7                 0  ...   \n",
              "2               59               15                 2  ...   \n",
              "3                1                0                 0  ...   \n",
              "4               24               11                 0  ...   \n",
              "\n",
              "   Marital_Status_Widow  Marital_Status_YOLO  Country_AUS  Country_CA  \\\n",
              "0                     0                    0            0           0   \n",
              "1                     0                    0            0           1   \n",
              "2                     0                    0            0           0   \n",
              "3                     0                    0            1           0   \n",
              "4                     0                    0            0           0   \n",
              "\n",
              "   Country_GER  Country_IND  Country_ME  Country_SA  Country_SP  Country_US  \n",
              "0            0            0           0           0           1           0  \n",
              "1            0            0           0           0           0           0  \n",
              "2            0            0           0           0           0           1  \n",
              "3            0            0           0           0           0           0  \n",
              "4            0            0           0           0           1           0  \n",
              "\n",
              "[5 rows x 51 columns]"
            ],
            "text/html": [
              "\n",
              "  <div id=\"df-475cfdd2-7647-4684-8cf9-c516f65ac77e\">\n",
              "    <div class=\"colab-df-container\">\n",
              "      <div>\n",
              "<style scoped>\n",
              "    .dataframe tbody tr th:only-of-type {\n",
              "        vertical-align: middle;\n",
              "    }\n",
              "\n",
              "    .dataframe tbody tr th {\n",
              "        vertical-align: top;\n",
              "    }\n",
              "\n",
              "    .dataframe thead th {\n",
              "        text-align: right;\n",
              "    }\n",
              "</style>\n",
              "<table border=\"1\" class=\"dataframe\">\n",
              "  <thead>\n",
              "    <tr style=\"text-align: right;\">\n",
              "      <th></th>\n",
              "      <th>Year_Birth</th>\n",
              "      <th>Income</th>\n",
              "      <th>Kidhome</th>\n",
              "      <th>Teenhome</th>\n",
              "      <th>Recency</th>\n",
              "      <th>MntWines</th>\n",
              "      <th>MntFruits</th>\n",
              "      <th>MntMeatProducts</th>\n",
              "      <th>MntFishProducts</th>\n",
              "      <th>MntSweetProducts</th>\n",
              "      <th>...</th>\n",
              "      <th>Marital_Status_Widow</th>\n",
              "      <th>Marital_Status_YOLO</th>\n",
              "      <th>Country_AUS</th>\n",
              "      <th>Country_CA</th>\n",
              "      <th>Country_GER</th>\n",
              "      <th>Country_IND</th>\n",
              "      <th>Country_ME</th>\n",
              "      <th>Country_SA</th>\n",
              "      <th>Country_SP</th>\n",
              "      <th>Country_US</th>\n",
              "    </tr>\n",
              "  </thead>\n",
              "  <tbody>\n",
              "    <tr>\n",
              "      <th>0</th>\n",
              "      <td>1970</td>\n",
              "      <td>84835</td>\n",
              "      <td>0</td>\n",
              "      <td>0</td>\n",
              "      <td>0</td>\n",
              "      <td>189</td>\n",
              "      <td>104</td>\n",
              "      <td>379</td>\n",
              "      <td>111</td>\n",
              "      <td>189</td>\n",
              "      <td>...</td>\n",
              "      <td>0</td>\n",
              "      <td>0</td>\n",
              "      <td>0</td>\n",
              "      <td>0</td>\n",
              "      <td>0</td>\n",
              "      <td>0</td>\n",
              "      <td>0</td>\n",
              "      <td>0</td>\n",
              "      <td>1</td>\n",
              "      <td>0</td>\n",
              "    </tr>\n",
              "    <tr>\n",
              "      <th>1</th>\n",
              "      <td>1961</td>\n",
              "      <td>57091</td>\n",
              "      <td>0</td>\n",
              "      <td>0</td>\n",
              "      <td>0</td>\n",
              "      <td>464</td>\n",
              "      <td>5</td>\n",
              "      <td>64</td>\n",
              "      <td>7</td>\n",
              "      <td>0</td>\n",
              "      <td>...</td>\n",
              "      <td>0</td>\n",
              "      <td>0</td>\n",
              "      <td>0</td>\n",
              "      <td>1</td>\n",
              "      <td>0</td>\n",
              "      <td>0</td>\n",
              "      <td>0</td>\n",
              "      <td>0</td>\n",
              "      <td>0</td>\n",
              "      <td>0</td>\n",
              "    </tr>\n",
              "    <tr>\n",
              "      <th>2</th>\n",
              "      <td>1958</td>\n",
              "      <td>67267</td>\n",
              "      <td>0</td>\n",
              "      <td>1</td>\n",
              "      <td>0</td>\n",
              "      <td>134</td>\n",
              "      <td>11</td>\n",
              "      <td>59</td>\n",
              "      <td>15</td>\n",
              "      <td>2</td>\n",
              "      <td>...</td>\n",
              "      <td>0</td>\n",
              "      <td>0</td>\n",
              "      <td>0</td>\n",
              "      <td>0</td>\n",
              "      <td>0</td>\n",
              "      <td>0</td>\n",
              "      <td>0</td>\n",
              "      <td>0</td>\n",
              "      <td>0</td>\n",
              "      <td>1</td>\n",
              "    </tr>\n",
              "    <tr>\n",
              "      <th>3</th>\n",
              "      <td>1967</td>\n",
              "      <td>32474</td>\n",
              "      <td>1</td>\n",
              "      <td>1</td>\n",
              "      <td>0</td>\n",
              "      <td>10</td>\n",
              "      <td>0</td>\n",
              "      <td>1</td>\n",
              "      <td>0</td>\n",
              "      <td>0</td>\n",
              "      <td>...</td>\n",
              "      <td>0</td>\n",
              "      <td>0</td>\n",
              "      <td>1</td>\n",
              "      <td>0</td>\n",
              "      <td>0</td>\n",
              "      <td>0</td>\n",
              "      <td>0</td>\n",
              "      <td>0</td>\n",
              "      <td>0</td>\n",
              "      <td>0</td>\n",
              "    </tr>\n",
              "    <tr>\n",
              "      <th>4</th>\n",
              "      <td>1989</td>\n",
              "      <td>21474</td>\n",
              "      <td>1</td>\n",
              "      <td>0</td>\n",
              "      <td>0</td>\n",
              "      <td>6</td>\n",
              "      <td>16</td>\n",
              "      <td>24</td>\n",
              "      <td>11</td>\n",
              "      <td>0</td>\n",
              "      <td>...</td>\n",
              "      <td>0</td>\n",
              "      <td>0</td>\n",
              "      <td>0</td>\n",
              "      <td>0</td>\n",
              "      <td>0</td>\n",
              "      <td>0</td>\n",
              "      <td>0</td>\n",
              "      <td>0</td>\n",
              "      <td>1</td>\n",
              "      <td>0</td>\n",
              "    </tr>\n",
              "  </tbody>\n",
              "</table>\n",
              "<p>5 rows × 51 columns</p>\n",
              "</div>\n",
              "      <button class=\"colab-df-convert\" onclick=\"convertToInteractive('df-475cfdd2-7647-4684-8cf9-c516f65ac77e')\"\n",
              "              title=\"Convert this dataframe to an interactive table.\"\n",
              "              style=\"display:none;\">\n",
              "        \n",
              "  <svg xmlns=\"http://www.w3.org/2000/svg\" height=\"24px\"viewBox=\"0 0 24 24\"\n",
              "       width=\"24px\">\n",
              "    <path d=\"M0 0h24v24H0V0z\" fill=\"none\"/>\n",
              "    <path d=\"M18.56 5.44l.94 2.06.94-2.06 2.06-.94-2.06-.94-.94-2.06-.94 2.06-2.06.94zm-11 1L8.5 8.5l.94-2.06 2.06-.94-2.06-.94L8.5 2.5l-.94 2.06-2.06.94zm10 10l.94 2.06.94-2.06 2.06-.94-2.06-.94-.94-2.06-.94 2.06-2.06.94z\"/><path d=\"M17.41 7.96l-1.37-1.37c-.4-.4-.92-.59-1.43-.59-.52 0-1.04.2-1.43.59L10.3 9.45l-7.72 7.72c-.78.78-.78 2.05 0 2.83L4 21.41c.39.39.9.59 1.41.59.51 0 1.02-.2 1.41-.59l7.78-7.78 2.81-2.81c.8-.78.8-2.07 0-2.86zM5.41 20L4 18.59l7.72-7.72 1.47 1.35L5.41 20z\"/>\n",
              "  </svg>\n",
              "      </button>\n",
              "      \n",
              "  <style>\n",
              "    .colab-df-container {\n",
              "      display:flex;\n",
              "      flex-wrap:wrap;\n",
              "      gap: 12px;\n",
              "    }\n",
              "\n",
              "    .colab-df-convert {\n",
              "      background-color: #E8F0FE;\n",
              "      border: none;\n",
              "      border-radius: 50%;\n",
              "      cursor: pointer;\n",
              "      display: none;\n",
              "      fill: #1967D2;\n",
              "      height: 32px;\n",
              "      padding: 0 0 0 0;\n",
              "      width: 32px;\n",
              "    }\n",
              "\n",
              "    .colab-df-convert:hover {\n",
              "      background-color: #E2EBFA;\n",
              "      box-shadow: 0px 1px 2px rgba(60, 64, 67, 0.3), 0px 1px 3px 1px rgba(60, 64, 67, 0.15);\n",
              "      fill: #174EA6;\n",
              "    }\n",
              "\n",
              "    [theme=dark] .colab-df-convert {\n",
              "      background-color: #3B4455;\n",
              "      fill: #D2E3FC;\n",
              "    }\n",
              "\n",
              "    [theme=dark] .colab-df-convert:hover {\n",
              "      background-color: #434B5C;\n",
              "      box-shadow: 0px 1px 3px 1px rgba(0, 0, 0, 0.15);\n",
              "      filter: drop-shadow(0px 1px 2px rgba(0, 0, 0, 0.3));\n",
              "      fill: #FFFFFF;\n",
              "    }\n",
              "  </style>\n",
              "\n",
              "      <script>\n",
              "        const buttonEl =\n",
              "          document.querySelector('#df-475cfdd2-7647-4684-8cf9-c516f65ac77e button.colab-df-convert');\n",
              "        buttonEl.style.display =\n",
              "          google.colab.kernel.accessAllowed ? 'block' : 'none';\n",
              "\n",
              "        async function convertToInteractive(key) {\n",
              "          const element = document.querySelector('#df-475cfdd2-7647-4684-8cf9-c516f65ac77e');\n",
              "          const dataTable =\n",
              "            await google.colab.kernel.invokeFunction('convertToInteractive',\n",
              "                                                     [key], {});\n",
              "          if (!dataTable) return;\n",
              "\n",
              "          const docLinkHtml = 'Like what you see? Visit the ' +\n",
              "            '<a target=\"_blank\" href=https://colab.research.google.com/notebooks/data_table.ipynb>data table notebook</a>'\n",
              "            + ' to learn more about interactive tables.';\n",
              "          element.innerHTML = '';\n",
              "          dataTable['output_type'] = 'display_data';\n",
              "          await google.colab.output.renderOutput(dataTable, element);\n",
              "          const docLink = document.createElement('div');\n",
              "          docLink.innerHTML = docLinkHtml;\n",
              "          element.appendChild(docLink);\n",
              "        }\n",
              "      </script>\n",
              "    </div>\n",
              "  </div>\n",
              "  "
            ]
          },
          "metadata": {},
          "execution_count": 29
        }
      ]
    },
    {
      "cell_type": "code",
      "source": [
        "#--import split train test function\n",
        "from sklearn.model_selection import train_test_split\n",
        "#--tạo dataframe train test theo chiều ngang\n",
        "X=rd_df.drop(columns=['NumStorePurchases'])\n",
        "y=rd_df['NumStorePurchases']\n",
        "#split train test dataset\n",
        "X_train, X_test, y_train, y_test=train_test_split(X, y,test_size=0.3)\n",
        "#import random forest regressor\n",
        "from sklearn.ensemble import RandomForestRegressor"
      ],
      "metadata": {
        "id": "4Vc0kavNyUnC"
      },
      "execution_count": 30,
      "outputs": []
    },
    {
      "cell_type": "code",
      "source": [
        "#--create forest having 100 trees\n",
        "rg = RandomForestRegressor(n_estimators=200, n_jobs=-1)\n",
        "#--train the model\n",
        "rg.fit(X_train, y_train)\n",
        "#--test the model\n",
        "y_pred=rg.predict(X_test)"
      ],
      "metadata": {
        "id": "dmW3xvWR3Di9"
      },
      "execution_count": 31,
      "outputs": []
    },
    {
      "cell_type": "code",
      "source": [
        "#--use metrics to assess the model\n",
        "from sklearn import metrics\n",
        "\n",
        "print('Mean Absolute Error - MAE:', metrics.mean_absolute_error(y_test, y_pred))\n",
        "print('Mean Squared Error - MSE', metrics.mean_squared_error(y_test, y_pred))\n",
        "print('Root Mean Squared Error - RMSE', np.sqrt(metrics.mean_squared_error(y_test, y_pred)))"
      ],
      "metadata": {
        "colab": {
          "base_uri": "https://localhost:8080/"
        },
        "id": "vnMSHjrS4rAs",
        "outputId": "485eaeb9-bed5-405d-bbb9-54ba17259052"
      },
      "execution_count": 32,
      "outputs": [
        {
          "output_type": "stream",
          "name": "stdout",
          "text": [
            "Mean Absolute Error - MAE: 0.7691792168674699\n",
            "Mean Squared Error - MSE 1.318645971385542\n",
            "Root Mean Squared Error - RMSE 1.1483231127977622\n"
          ]
        }
      ]
    },
    {
      "cell_type": "code",
      "source": [
        "#--finding important features\n",
        "imp_score=pd.Series(rg.feature_importances_,index=list(X.columns)).sort_values(ascending=False)\n",
        "imp_score[:10]"
      ],
      "metadata": {
        "colab": {
          "base_uri": "https://localhost:8080/"
        },
        "id": "AfE2fzro5Yn9",
        "outputId": "0a3ef23c-d3cc-4a0d-804e-e72ab8330a4d"
      },
      "execution_count": 33,
      "outputs": [
        {
          "output_type": "execute_result",
          "data": {
            "text/plain": [
              "Total_amount           0.402211\n",
              "AOV                    0.273855\n",
              "Total_purchase         0.085916\n",
              "NumCatalogPurchases    0.037391\n",
              "NumWebPurchases        0.035624\n",
              "NumWebVisitsMonth      0.032437\n",
              "MntWines               0.020388\n",
              "MntGoldProds           0.012739\n",
              "Income                 0.011633\n",
              "NumDealsPurchases      0.009744\n",
              "dtype: float64"
            ]
          },
          "metadata": {},
          "execution_count": 33
        }
      ]
    },
    {
      "cell_type": "code",
      "source": [
        "sns.barplot(x=imp_score[:10],y=imp_score.index[:10])\n",
        "plt.show()"
      ],
      "metadata": {
        "colab": {
          "base_uri": "https://localhost:8080/",
          "height": 430
        },
        "id": "uNZmpqYe6l92",
        "outputId": "42ac1e40-6aad-4a4e-a41f-10d1ccb7ebe7"
      },
      "execution_count": 34,
      "outputs": [
        {
          "output_type": "display_data",
          "data": {
            "text/plain": [
              "<Figure size 640x480 with 1 Axes>"
            ],
            "image/png": "[encoded data removed]"
          },
          "metadata": {}
        }
      ]
    },
    {
      "cell_type": "markdown",
      "source": [
        "We can conclude that total amount is the most influenced factor on the number of store purchases."
      ],
      "metadata": {
        "id": "5IDpIux0091a"
      }
    },
    {
      "cell_type": "code",
      "source": [
        "from scipy.stats import pearsonr\n",
        "\n",
        "r, p_value  =  pearsonr(x=new_df['MntGoldProds'], y=new_df['NumStorePurchases'])\n",
        "\n",
        "# print results\n",
        "print('Pearson correlation (r): ', r)\n",
        "print('Pearson p-value: ', p_value)"
      ],
      "metadata": {
        "id": "GF7FxF5-68e3",
        "colab": {
          "base_uri": "https://localhost:8080/"
        },
        "outputId": "9fdf0421-aa8d-4a8a-d159-e86108eb3b38"
      },
      "execution_count": 35,
      "outputs": [
        {
          "output_type": "stream",
          "name": "stdout",
          "text": [
            "Pearson correlation (r):  0.39083443502519855\n",
            "Pearson p-value:  1.128338521606759e-81\n"
          ]
        }
      ]
    },
    {
      "cell_type": "markdown",
      "source": [
        "- The results will display the Pearson correlation coefficient and the corresponding p-value. Pearson correlation coefficient values are in the range [-1, 1], where 1 indicates perfect positive correlation, -1 indicates perfect negative correlation, and 0 indicates no linear correlation. . P-value measures the level of statistical significance of the correlation, with a low p-value (< 0.05) indicating a statistically significant correlation.\n",
        "- The above results show that r=0.39 means there is a positive correlation. However, p-value=1.12 (>0.05) so there is no statistical significance --> no correlation is confirmed --> conclusion is not correlated.\n"
      ],
      "metadata": {
        "id": "kUkDsiBc6zkK"
      }
    },
    {
      "cell_type": "markdown",
      "source": [
        "- Fish has Omega 3 fatty acids, which are good for the brain. Accordingly, do “Married Ph.D. candidates” have a significant relation with the amount spent on fish?"
      ],
      "metadata": {
        "id": "p_0cy8cJ8zu5"
      }
    },
    {
      "cell_type": "code",
      "source": [
        "# divide the data into two groups: married PhD and the rest\n",
        "married_phd = new_df[(new_df.Education == \"PhD\") & (new_df.Marital_Status == \"Married\")]\n",
        "married_phd['label'] = \"Married PhD\"\n",
        "the_rest = new_df[(new_df.Education != \"PhD\") | (new_df.Marital_Status != \"Married\")]\n",
        "the_rest['label'] = \"The rest\"\n",
        "\n",
        "df_combined = married_phd.append(the_rest)\n",
        "plt.figure(figsize = (4, 5))\n",
        "plt.title(\"Married PhD vs the rest\")\n",
        "sb.boxplot(data = df_combined, x = 'label', y = 'MntFishProducts')\n",
        "plt.ylabel(\"Amount spent on fish products\");"
      ],
      "metadata": {
        "colab": {
          "base_uri": "https://localhost:8080/",
          "height": 750
        },
        "id": "9LHX_9jU63qA",
        "outputId": "38e9d20f-6412-4733-ebbb-1bbc1f76a96e"
      },
      "execution_count": 36,
      "outputs": [
        {
          "output_type": "stream",
          "name": "stderr",
          "text": [
            "<ipython-input-36-29402cd6a13c>:4: SettingWithCopyWarning: \n",
            "A value is trying to be set on a copy of a slice from a DataFrame.\n",
            "Try using .loc[row_indexer,col_indexer] = value instead\n",
            "\n",
            "See the caveats in the documentation: https://pandas.pydata.org/pandas-docs/stable/user_guide/indexing.html#returning-a-view-versus-a-copy\n",
            "  married_phd['label'] = \"Married PhD\"\n",
            "<ipython-input-36-29402cd6a13c>:6: SettingWithCopyWarning: \n",
            "A value is trying to be set on a copy of a slice from a DataFrame.\n",
            "Try using .loc[row_indexer,col_indexer] = value instead\n",
            "\n",
            "See the caveats in the documentation: https://pandas.pydata.org/pandas-docs/stable/user_guide/indexing.html#returning-a-view-versus-a-copy\n",
            "  the_rest['label'] = \"The rest\"\n",
            "<ipython-input-36-29402cd6a13c>:8: FutureWarning: The frame.append method is deprecated and will be removed from pandas in a future version. Use pandas.concat instead.\n",
            "  df_combined = married_phd.append(the_rest)\n"
          ]
        },
        {
          "output_type": "display_data",
          "data": {
            "text/plain": [
              "<Figure size 400x500 with 1 Axes>"
            ],
            "image/png": "[encoded data removed]"
          },
          "metadata": {}
        }
      ]
    },
    {
      "cell_type": "markdown",
      "source": [
        "The remaining group of customers had more fish purchases on average than the Married PhD group."
      ],
      "metadata": {
        "id": "uxDTAS2-9rbJ"
      }
    },
    {
      "cell_type": "code",
      "source": [
        "# use t-test to test if these two groups have the same mean\n",
        "from scipy.stats import ttest_ind \n",
        "\n",
        "#This is a two-sided test for the null hypothesis that 2 independent samples have identical average (expected) values. \n",
        "#This test assumes that the populations have identical variances by default.\n",
        "pval = ttest_ind(married_phd.MntFishProducts, the_rest.MntFishProducts).pvalue\n",
        "print(\"T-test p-value: \", pval)"
      ],
      "metadata": {
        "colab": {
          "base_uri": "https://localhost:8080/"
        },
        "id": "OA4gaBpY9im-",
        "outputId": "8f2437e4-9ec8-45d3-b54b-96e3672727fd"
      },
      "execution_count": 37,
      "outputs": [
        {
          "output_type": "stream",
          "name": "stdout",
          "text": [
            "T-test p-value:  0.005045085872014597\n"
          ]
        }
      ]
    },
    {
      "cell_type": "markdown",
      "source": [
        "- H0: u1=u2\n",
        "- H1: u1 >< u2\n",
        "- If p-value < 0.05, we reject hypothesis H0, otherwise we will accept hypothesis H0.\n",
        "- According to the above results, p-value=0.005 -> reject the hypothesis H0, which is 2 unequal averages (based on the chart to know which side is bigger)"
      ],
      "metadata": {
        "id": "hvVzxHfK-MKr"
      }
    },
    {
      "cell_type": "markdown",
      "source": [
        "# Further Analysis"
      ],
      "metadata": {
        "id": "Kw4Hl7og-8H_"
      }
    },
    {
      "cell_type": "markdown",
      "source": [
        "## Which marketing campaign is most successful?"
      ],
      "metadata": {
        "id": "zAH-zADu_z_4"
      }
    },
    {
      "cell_type": "code",
      "source": [
        "new_df"
      ],
      "metadata": {
        "colab": {
          "base_uri": "https://localhost:8080/",
          "height": 487
        },
        "id": "Wrxo_fDYAALL",
        "outputId": "b11abe19-3d01-40d3-9d95-0830feccb486"
      },
      "execution_count": 38,
      "outputs": [
        {
          "output_type": "execute_result",
          "data": {
            "text/plain": [
              "         ID  Year_Birth   Education Marital_Status  Income  Kidhome  Teenhome  \\\n",
              "0      1826        1970  Graduation       Divorced   84835        0         0   \n",
              "1         1        1961  Graduation         Single   57091        0         0   \n",
              "2     10476        1958  Graduation        Married   67267        0         1   \n",
              "3      1386        1967  Graduation       Together   32474        1         1   \n",
              "4      5371        1989  Graduation         Single   21474        1         0   \n",
              "...     ...         ...         ...            ...     ...      ...       ...   \n",
              "2235  10142        1976         PhD       Divorced   66476        0         1   \n",
              "2236   5263        1977    2n Cycle        Married   31056        1         0   \n",
              "2237     22        1976  Graduation       Divorced   46310        1         0   \n",
              "2238    528        1978  Graduation        Married   65819        0         0   \n",
              "2239   4070        1969         PhD        Married   94871        0         2   \n",
              "\n",
              "     Dt_Customer  Recency  MntWines  ...  Response  Complain  Country  \\\n",
              "0     2014-06-16        0       189  ...         1         0       SP   \n",
              "1     2014-06-15        0       464  ...         1         0       CA   \n",
              "2     2014-05-13        0       134  ...         0         0       US   \n",
              "3     2014-05-11        0        10  ...         0         0      AUS   \n",
              "4     2014-04-08        0         6  ...         1         0       SP   \n",
              "...          ...      ...       ...  ...       ...       ...      ...   \n",
              "2235  2013-03-07       99       372  ...         0         0       US   \n",
              "2236  2013-01-22       99         5  ...         0         0       SP   \n",
              "2237  2012-12-03       99       185  ...         0         0       SP   \n",
              "2238  2012-11-29       99       267  ...         0         0      IND   \n",
              "2239  2012-09-01       99       169  ...         1         0       CA   \n",
              "\n",
              "      Join_week  Join_month  Join_year  Total_amount  Total_purchase  \\\n",
              "0             0           6       2014          1190              16   \n",
              "1             6           6       2014           577              23   \n",
              "2             1           5       2014           251              13   \n",
              "3             6           5       2014            11              11   \n",
              "4             1           4       2014            91              15   \n",
              "...         ...         ...        ...           ...             ...   \n",
              "2235          3           3       2013           689              24   \n",
              "2236          1           1       2013            55              13   \n",
              "2237          0          12       2012           309              22   \n",
              "2238          3          11       2012          1383              23   \n",
              "2239          5           9       2012          1078              25   \n",
              "\n",
              "      Total_kids        AOV  \n",
              "0              0  74.375000  \n",
              "1              0  25.086957  \n",
              "2              1  19.307692  \n",
              "3              2   1.000000  \n",
              "4              1   6.066667  \n",
              "...          ...        ...  \n",
              "2235           1  28.708333  \n",
              "2236           1   4.230769  \n",
              "2237           1  14.045455  \n",
              "2238           0  60.130435  \n",
              "2239           2  43.120000  \n",
              "\n",
              "[2213 rows x 35 columns]"
            ],
            "text/html": [
              "\n",
              "  <div id=\"df-3dccda5d-cde9-40fe-b9f0-cc63258a2cfc\">\n",
              "    <div class=\"colab-df-container\">\n",
              "      <div>\n",
              "<style scoped>\n",
              "    .dataframe tbody tr th:only-of-type {\n",
              "        vertical-align: middle;\n",
              "    }\n",
              "\n",
              "    .dataframe tbody tr th {\n",
              "        vertical-align: top;\n",
              "    }\n",
              "\n",
              "    .dataframe thead th {\n",
              "        text-align: right;\n",
              "    }\n",
              "</style>\n",
              "<table border=\"1\" class=\"dataframe\">\n",
              "  <thead>\n",
              "    <tr style=\"text-align: right;\">\n",
              "      <th></th>\n",
              "      <th>ID</th>\n",
              "      <th>Year_Birth</th>\n",
              "      <th>Education</th>\n",
              "      <th>Marital_Status</th>\n",
              "      <th>Income</th>\n",
              "      <th>Kidhome</th>\n",
              "      <th>Teenhome</th>\n",
              "      <th>Dt_Customer</th>\n",
              "      <th>Recency</th>\n",
              "      <th>MntWines</th>\n",
              "      <th>...</th>\n",
              "      <th>Response</th>\n",
              "      <th>Complain</th>\n",
              "      <th>Country</th>\n",
              "      <th>Join_week</th>\n",
              "      <th>Join_month</th>\n",
              "      <th>Join_year</th>\n",
              "      <th>Total_amount</th>\n",
              "      <th>Total_purchase</th>\n",
              "      <th>Total_kids</th>\n",
              "      <th>AOV</th>\n",
              "    </tr>\n",
              "  </thead>\n",
              "  <tbody>\n",
              "    <tr>\n",
              "      <th>0</th>\n",
              "      <td>1826</td>\n",
              "      <td>1970</td>\n",
              "      <td>Graduation</td>\n",
              "      <td>Divorced</td>\n",
              "      <td>84835</td>\n",
              "      <td>0</td>\n",
              "      <td>0</td>\n",
              "      <td>2014-06-16</td>\n",
              "      <td>0</td>\n",
              "      <td>189</td>\n",
              "      <td>...</td>\n",
              "      <td>1</td>\n",
              "      <td>0</td>\n",
              "      <td>SP</td>\n",
              "      <td>0</td>\n",
              "      <td>6</td>\n",
              "      <td>2014</td>\n",
              "      <td>1190</td>\n",
              "      <td>16</td>\n",
              "      <td>0</td>\n",
              "      <td>74.375000</td>\n",
              "    </tr>\n",
              "    <tr>\n",
              "      <th>1</th>\n",
              "      <td>1</td>\n",
              "      <td>1961</td>\n",
              "      <td>Graduation</td>\n",
              "      <td>Single</td>\n",
              "      <td>57091</td>\n",
              "      <td>0</td>\n",
              "      <td>0</td>\n",
              "      <td>2014-06-15</td>\n",
              "      <td>0</td>\n",
              "      <td>464</td>\n",
              "      <td>...</td>\n",
              "      <td>1</td>\n",
              "      <td>0</td>\n",
              "      <td>CA</td>\n",
              "      <td>6</td>\n",
              "      <td>6</td>\n",
              "      <td>2014</td>\n",
              "      <td>577</td>\n",
              "      <td>23</td>\n",
              "      <td>0</td>\n",
              "      <td>25.086957</td>\n",
              "    </tr>\n",
              "    <tr>\n",
              "      <th>2</th>\n",
              "      <td>10476</td>\n",
              "      <td>1958</td>\n",
              "      <td>Graduation</td>\n",
              "      <td>Married</td>\n",
              "      <td>67267</td>\n",
              "      <td>0</td>\n",
              "      <td>1</td>\n",
              "      <td>2014-05-13</td>\n",
              "      <td>0</td>\n",
              "      <td>134</td>\n",
              "      <td>...</td>\n",
              "      <td>0</td>\n",
              "      <td>0</td>\n",
              "      <td>US</td>\n",
              "      <td>1</td>\n",
              "      <td>5</td>\n",
              "      <td>2014</td>\n",
              "      <td>251</td>\n",
              "      <td>13</td>\n",
              "      <td>1</td>\n",
              "      <td>19.307692</td>\n",
              "    </tr>\n",
              "    <tr>\n",
              "      <th>3</th>\n",
              "      <td>1386</td>\n",
              "      <td>1967</td>\n",
              "      <td>Graduation</td>\n",
              "      <td>Together</td>\n",
              "      <td>32474</td>\n",
              "      <td>1</td>\n",
              "      <td>1</td>\n",
              "      <td>2014-05-11</td>\n",
              "      <td>0</td>\n",
              "      <td>10</td>\n",
              "      <td>...</td>\n",
              "      <td>0</td>\n",
              "      <td>0</td>\n",
              "      <td>AUS</td>\n",
              "      <td>6</td>\n",
              "      <td>5</td>\n",
              "      <td>2014</td>\n",
              "      <td>11</td>\n",
              "      <td>11</td>\n",
              "      <td>2</td>\n",
              "      <td>1.000000</td>\n",
              "    </tr>\n",
              "    <tr>\n",
              "      <th>4</th>\n",
              "      <td>5371</td>\n",
              "      <td>1989</td>\n",
              "      <td>Graduation</td>\n",
              "      <td>Single</td>\n",
              "      <td>21474</td>\n",
              "      <td>1</td>\n",
              "      <td>0</td>\n",
              "      <td>2014-04-08</td>\n",
              "      <td>0</td>\n",
              "      <td>6</td>\n",
              "      <td>...</td>\n",
              "      <td>1</td>\n",
              "      <td>0</td>\n",
              "      <td>SP</td>\n",
              "      <td>1</td>\n",
              "      <td>4</td>\n",
              "      <td>2014</td>\n",
              "      <td>91</td>\n",
              "      <td>15</td>\n",
              "      <td>1</td>\n",
              "      <td>6.066667</td>\n",
              "    </tr>\n",
              "    <tr>\n",
              "      <th>...</th>\n",
              "      <td>...</td>\n",
              "      <td>...</td>\n",
              "      <td>...</td>\n",
              "      <td>...</td>\n",
              "      <td>...</td>\n",
              "      <td>...</td>\n",
              "      <td>...</td>\n",
              "      <td>...</td>\n",
              "      <td>...</td>\n",
              "      <td>...</td>\n",
              "      <td>...</td>\n",
              "      <td>...</td>\n",
              "      <td>...</td>\n",
              "      <td>...</td>\n",
              "      <td>...</td>\n",
              "      <td>...</td>\n",
              "      <td>...</td>\n",
              "      <td>...</td>\n",
              "      <td>...</td>\n",
              "      <td>...</td>\n",
              "      <td>...</td>\n",
              "    </tr>\n",
              "    <tr>\n",
              "      <th>2235</th>\n",
              "      <td>10142</td>\n",
              "      <td>1976</td>\n",
              "      <td>PhD</td>\n",
              "      <td>Divorced</td>\n",
              "      <td>66476</td>\n",
              "      <td>0</td>\n",
              "      <td>1</td>\n",
              "      <td>2013-03-07</td>\n",
              "      <td>99</td>\n",
              "      <td>372</td>\n",
              "      <td>...</td>\n",
              "      <td>0</td>\n",
              "      <td>0</td>\n",
              "      <td>US</td>\n",
              "      <td>3</td>\n",
              "      <td>3</td>\n",
              "      <td>2013</td>\n",
              "      <td>689</td>\n",
              "      <td>24</td>\n",
              "      <td>1</td>\n",
              "      <td>28.708333</td>\n",
              "    </tr>\n",
              "    <tr>\n",
              "      <th>2236</th>\n",
              "      <td>5263</td>\n",
              "      <td>1977</td>\n",
              "      <td>2n Cycle</td>\n",
              "      <td>Married</td>\n",
              "      <td>31056</td>\n",
              "      <td>1</td>\n",
              "      <td>0</td>\n",
              "      <td>2013-01-22</td>\n",
              "      <td>99</td>\n",
              "      <td>5</td>\n",
              "      <td>...</td>\n",
              "      <td>0</td>\n",
              "      <td>0</td>\n",
              "      <td>SP</td>\n",
              "      <td>1</td>\n",
              "      <td>1</td>\n",
              "      <td>2013</td>\n",
              "      <td>55</td>\n",
              "      <td>13</td>\n",
              "      <td>1</td>\n",
              "      <td>4.230769</td>\n",
              "    </tr>\n",
              "    <tr>\n",
              "      <th>2237</th>\n",
              "      <td>22</td>\n",
              "      <td>1976</td>\n",
              "      <td>Graduation</td>\n",
              "      <td>Divorced</td>\n",
              "      <td>46310</td>\n",
              "      <td>1</td>\n",
              "      <td>0</td>\n",
              "      <td>2012-12-03</td>\n",
              "      <td>99</td>\n",
              "      <td>185</td>\n",
              "      <td>...</td>\n",
              "      <td>0</td>\n",
              "      <td>0</td>\n",
              "      <td>SP</td>\n",
              "      <td>0</td>\n",
              "      <td>12</td>\n",
              "      <td>2012</td>\n",
              "      <td>309</td>\n",
              "      <td>22</td>\n",
              "      <td>1</td>\n",
              "      <td>14.045455</td>\n",
              "    </tr>\n",
              "    <tr>\n",
              "      <th>2238</th>\n",
              "      <td>528</td>\n",
              "      <td>1978</td>\n",
              "      <td>Graduation</td>\n",
              "      <td>Married</td>\n",
              "      <td>65819</td>\n",
              "      <td>0</td>\n",
              "      <td>0</td>\n",
              "      <td>2012-11-29</td>\n",
              "      <td>99</td>\n",
              "      <td>267</td>\n",
              "      <td>...</td>\n",
              "      <td>0</td>\n",
              "      <td>0</td>\n",
              "      <td>IND</td>\n",
              "      <td>3</td>\n",
              "      <td>11</td>\n",
              "      <td>2012</td>\n",
              "      <td>1383</td>\n",
              "      <td>23</td>\n",
              "      <td>0</td>\n",
              "      <td>60.130435</td>\n",
              "    </tr>\n",
              "    <tr>\n",
              "      <th>2239</th>\n",
              "      <td>4070</td>\n",
              "      <td>1969</td>\n",
              "      <td>PhD</td>\n",
              "      <td>Married</td>\n",
              "      <td>94871</td>\n",
              "      <td>0</td>\n",
              "      <td>2</td>\n",
              "      <td>2012-09-01</td>\n",
              "      <td>99</td>\n",
              "      <td>169</td>\n",
              "      <td>...</td>\n",
              "      <td>1</td>\n",
              "      <td>0</td>\n",
              "      <td>CA</td>\n",
              "      <td>5</td>\n",
              "      <td>9</td>\n",
              "      <td>2012</td>\n",
              "      <td>1078</td>\n",
              "      <td>25</td>\n",
              "      <td>2</td>\n",
              "      <td>43.120000</td>\n",
              "    </tr>\n",
              "  </tbody>\n",
              "</table>\n",
              "<p>2213 rows × 35 columns</p>\n",
              "</div>\n",
              "      <button class=\"colab-df-convert\" onclick=\"convertToInteractive('df-3dccda5d-cde9-40fe-b9f0-cc63258a2cfc')\"\n",
              "              title=\"Convert this dataframe to an interactive table.\"\n",
              "              style=\"display:none;\">\n",
              "        \n",
              "  <svg xmlns=\"http://www.w3.org/2000/svg\" height=\"24px\"viewBox=\"0 0 24 24\"\n",
              "       width=\"24px\">\n",
              "    <path d=\"M0 0h24v24H0V0z\" fill=\"none\"/>\n",
              "    <path d=\"M18.56 5.44l.94 2.06.94-2.06 2.06-.94-2.06-.94-.94-2.06-.94 2.06-2.06.94zm-11 1L8.5 8.5l.94-2.06 2.06-.94-2.06-.94L8.5 2.5l-.94 2.06-2.06.94zm10 10l.94 2.06.94-2.06 2.06-.94-2.06-.94-.94-2.06-.94 2.06-2.06.94z\"/><path d=\"M17.41 7.96l-1.37-1.37c-.4-.4-.92-.59-1.43-.59-.52 0-1.04.2-1.43.59L10.3 9.45l-7.72 7.72c-.78.78-.78 2.05 0 2.83L4 21.41c.39.39.9.59 1.41.59.51 0 1.02-.2 1.41-.59l7.78-7.78 2.81-2.81c.8-.78.8-2.07 0-2.86zM5.41 20L4 18.59l7.72-7.72 1.47 1.35L5.41 20z\"/>\n",
              "  </svg>\n",
              "      </button>\n",
              "      \n",
              "  <style>\n",
              "    .colab-df-container {\n",
              "      display:flex;\n",
              "      flex-wrap:wrap;\n",
              "      gap: 12px;\n",
              "    }\n",
              "\n",
              "    .colab-df-convert {\n",
              "      background-color: #E8F0FE;\n",
              "      border: none;\n",
              "      border-radius: 50%;\n",
              "      cursor: pointer;\n",
              "      display: none;\n",
              "      fill: #1967D2;\n",
              "      height: 32px;\n",
              "      padding: 0 0 0 0;\n",
              "      width: 32px;\n",
              "    }\n",
              "\n",
              "    .colab-df-convert:hover {\n",
              "      background-color: #E2EBFA;\n",
              "      box-shadow: 0px 1px 2px rgba(60, 64, 67, 0.3), 0px 1px 3px 1px rgba(60, 64, 67, 0.15);\n",
              "      fill: #174EA6;\n",
              "    }\n",
              "\n",
              "    [theme=dark] .colab-df-convert {\n",
              "      background-color: #3B4455;\n",
              "      fill: #D2E3FC;\n",
              "    }\n",
              "\n",
              "    [theme=dark] .colab-df-convert:hover {\n",
              "      background-color: #434B5C;\n",
              "      box-shadow: 0px 1px 3px 1px rgba(0, 0, 0, 0.15);\n",
              "      filter: drop-shadow(0px 1px 2px rgba(0, 0, 0, 0.3));\n",
              "      fill: #FFFFFF;\n",
              "    }\n",
              "  </style>\n",
              "\n",
              "      <script>\n",
              "        const buttonEl =\n",
              "          document.querySelector('#df-3dccda5d-cde9-40fe-b9f0-cc63258a2cfc button.colab-df-convert');\n",
              "        buttonEl.style.display =\n",
              "          google.colab.kernel.accessAllowed ? 'block' : 'none';\n",
              "\n",
              "        async function convertToInteractive(key) {\n",
              "          const element = document.querySelector('#df-3dccda5d-cde9-40fe-b9f0-cc63258a2cfc');\n",
              "          const dataTable =\n",
              "            await google.colab.kernel.invokeFunction('convertToInteractive',\n",
              "                                                     [key], {});\n",
              "          if (!dataTable) return;\n",
              "\n",
              "          const docLinkHtml = 'Like what you see? Visit the ' +\n",
              "            '<a target=\"_blank\" href=https://colab.research.google.com/notebooks/data_table.ipynb>data table notebook</a>'\n",
              "            + ' to learn more about interactive tables.';\n",
              "          element.innerHTML = '';\n",
              "          dataTable['output_type'] = 'display_data';\n",
              "          await google.colab.output.renderOutput(dataTable, element);\n",
              "          const docLink = document.createElement('div');\n",
              "          docLink.innerHTML = docLinkHtml;\n",
              "          element.appendChild(docLink);\n",
              "        }\n",
              "      </script>\n",
              "    </div>\n",
              "  </div>\n",
              "  "
            ]
          },
          "metadata": {},
          "execution_count": 38
        }
      ]
    },
    {
      "cell_type": "code",
      "source": [
        "new_df[[\"AcceptedCmp1\", \"AcceptedCmp2\",\"AcceptedCmp3\",\"AcceptedCmp4\",\"AcceptedCmp5\",\"Response\"]].sum().sort_values().plot.barh()\n",
        "plt.title(\"Which marketing campaign is most successful?\")\n",
        "plt.xlabel(\"Offer Accepted\");\n",
        "plt.ylabel(\"Campaign\")"
      ],
      "metadata": {
        "colab": {
          "base_uri": "https://localhost:8080/",
          "height": 489
        },
        "id": "luiUfxyU5QRy",
        "outputId": "5d7213cd-1a08-4875-91c7-ba66717f33af"
      },
      "execution_count": 39,
      "outputs": [
        {
          "output_type": "execute_result",
          "data": {
            "text/plain": [
              "Text(0, 0.5, 'Campaign')"
            ]
          },
          "metadata": {},
          "execution_count": 39
        },
        {
          "output_type": "display_data",
          "data": {
            "text/plain": [
              "<Figure size 640x480 with 1 Axes>"
            ],
            "image/png": "[encoded data removed]"
          },
          "metadata": {}
        }
      ]
    },
    {
      "cell_type": "markdown",
      "source": [
        "## What does the average customer look like for this company? Which products are performing best?"
      ],
      "metadata": {
        "id": "w1zyTLXr5iXm"
      }
    },
    {
      "cell_type": "code",
      "source": [
        "new_df.replace([np.inf, -np.inf], 0, inplace=True)"
      ],
      "metadata": {
        "colab": {
          "base_uri": "https://localhost:8080/"
        },
        "id": "5MjIXO4q7Mvy",
        "outputId": "201be18c-6339-4552-a51a-a248bd670d3e"
      },
      "execution_count": 40,
      "outputs": [
        {
          "output_type": "stream",
          "name": "stderr",
          "text": [
            "<ipython-input-40-48c6eb4be850>:1: SettingWithCopyWarning: \n",
            "A value is trying to be set on a copy of a slice from a DataFrame\n",
            "\n",
            "See the caveats in the documentation: https://pandas.pydata.org/pandas-docs/stable/user_guide/indexing.html#returning-a-view-versus-a-copy\n",
            "  new_df.replace([np.inf, -np.inf], 0, inplace=True)\n"
          ]
        }
      ]
    },
    {
      "cell_type": "code",
      "source": [
        "new_df.mean()"
      ],
      "metadata": {
        "colab": {
          "base_uri": "https://localhost:8080/"
        },
        "id": "fMetsTsk7jKx",
        "outputId": "6810e45d-ebd0-4f42-a69f-8e93ddfc8edb"
      },
      "execution_count": 41,
      "outputs": [
        {
          "output_type": "stream",
          "name": "stderr",
          "text": [
            "<ipython-input-41-b697eb9e3f41>:1: FutureWarning: DataFrame.mean and DataFrame.median with numeric_only=None will include datetime64 and datetime64tz columns in a future version.\n",
            "  new_df.mean()\n",
            "<ipython-input-41-b697eb9e3f41>:1: FutureWarning: The default value of numeric_only in DataFrame.mean is deprecated. In a future version, it will default to False. In addition, specifying 'numeric_only=None' is deprecated. Select only valid columns or specify the value of numeric_only to silence this warning.\n",
            "  new_df.mean()\n"
          ]
        },
        {
          "output_type": "execute_result",
          "data": {
            "text/plain": [
              "ID                      5586.899232\n",
              "Year_Birth              1968.917307\n",
              "Income                 50664.391776\n",
              "Kidhome                    0.441934\n",
              "Teenhome                   0.505648\n",
              "Recency                   49.007682\n",
              "MntWines                 305.153638\n",
              "MntFruits                 26.323995\n",
              "MntMeatProducts          166.962494\n",
              "MntFishProducts           37.635337\n",
              "MntSweetProducts          27.034794\n",
              "MntGoldProds              43.911432\n",
              "NumDealsPurchases          2.325350\n",
              "NumWebPurchases            4.087664\n",
              "NumCatalogPurchases        2.671487\n",
              "NumStorePurchases          5.805242\n",
              "NumWebVisitsMonth          5.321735\n",
              "AcceptedCmp3               0.073656\n",
              "AcceptedCmp4               0.074108\n",
              "AcceptedCmp5               0.072752\n",
              "AcceptedCmp1               0.064166\n",
              "AcceptedCmp2               0.013556\n",
              "Response                   0.150474\n",
              "Complain                   0.009038\n",
              "Join_week                  2.986444\n",
              "Join_month                 6.463624\n",
              "Join_year               2013.028016\n",
              "Total_amount             607.021690\n",
              "Total_purchase            20.211478\n",
              "Total_kids                 0.947582\n",
              "AOV                       26.173616\n",
              "dtype: float64"
            ]
          },
          "metadata": {},
          "execution_count": 41
        }
      ]
    },
    {
      "cell_type": "markdown",
      "source": [
        "Each customer:\n",
        "- has an annual income of 52200 dollars\n",
        "- had purchased 49 days ago\n",
        "- has an AOV of 26.8 dollars\n",
        "- has spent 605 dollars\n",
        "- has purchased 20 times\n",
        "- became a customer in mid-June\n",
        "- became a customer on Thursday\n",
        "- spent most on wines(300 dollars) and then meat products(165 dollars)\n",
        "- spent least on fruit (26 dollars) and sweet products(27 dollars)"
      ],
      "metadata": {
        "id": "w4IdWv_R7xFE"
      }
    },
    {
      "cell_type": "markdown",
      "source": [
        "## Which marketing channels are underperforming?"
      ],
      "metadata": {
        "id": "xYkw0FiM8Ghg"
      }
    },
    {
      "cell_type": "code",
      "source": [
        "new_df[[\"NumWebPurchases\", \"NumCatalogPurchases\", \"NumStorePurchases\"]].sum().sort_values().plot.barh()\n",
        "plt.title(\"Which marketing channels are underperforming?\")\n",
        "plt.xlabel(\"Total number of purchases\")\n",
        "plt.ylabel(\"Channel\")"
      ],
      "metadata": {
        "colab": {
          "base_uri": "https://localhost:8080/",
          "height": 489
        },
        "id": "lwMQ79uQ7wdW",
        "outputId": "94b250a6-1bd3-4239-fa15-d228de4c1a58"
      },
      "execution_count": 42,
      "outputs": [
        {
          "output_type": "execute_result",
          "data": {
            "text/plain": [
              "Text(0, 0.5, 'Channel')"
            ]
          },
          "metadata": {},
          "execution_count": 42
        },
        {
          "output_type": "display_data",
          "data": {
            "text/plain": [
              "<Figure size 640x480 with 1 Axes>"
            ],
            "image/png": "[encoded data removed]"
          },
          "metadata": {}
        }
      ]
    },
    {
      "cell_type": "markdown",
      "source": [
        "Catalog is the most underperforming channel."
      ],
      "metadata": {
        "id": "zkHwQC0e85b1"
      }
    },
    {
      "cell_type": "markdown",
      "source": [
        "# Conclusion"
      ],
      "metadata": {
        "id": "A2PeoB4w9M4G"
      }
    },
    {
      "cell_type": "markdown",
      "source": [
        "1. People having high AOV tend to\n",
        "- not have many kids\n",
        "- not visit website\n",
        "- buy through catalog and store\n",
        "- buy high amount of meat and wines\n",
        "- high income\n",
        "2. Total amount is the most influenced factor on the number of store purchases\n",
        "3. The remaining customers had more fish purchases on average than the Married PhD group.\n",
        "4. The last campaign is the most successful\n",
        "5. Catalog is the most underperforming channel."
      ],
      "metadata": {
        "id": "d-YL64rZ9_eP"
      }
    }
  ]
}